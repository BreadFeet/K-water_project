{
 "cells": [
  {
   "cell_type": "markdown",
   "metadata": {},
   "source": [
    "# 2008~2018 Data Combining Process"
   ]
  },
  {
   "cell_type": "code",
   "execution_count": 6,
   "metadata": {
    "ExecuteTime": {
     "end_time": "2021-07-25T21:41:24.160948Z",
     "start_time": "2021-07-25T21:41:24.126043Z"
    }
   },
   "outputs": [],
   "source": [
    "import pandas as pd\n",
    "import numpy as np"
   ]
  },
  {
   "cell_type": "markdown",
   "metadata": {
    "heading_collapsed": true
   },
   "source": [
    "## For Water Data"
   ]
  },
  {
   "cell_type": "code",
   "execution_count": 147,
   "metadata": {
    "ExecuteTime": {
     "end_time": "2021-07-20T14:08:36.279173Z",
     "start_time": "2021-07-20T14:02:27.854137Z"
    },
    "hidden": true
   },
   "outputs": [
    {
     "name": "stderr",
     "output_type": "stream",
     "text": [
      "C:\\Users\\sori-\\anaconda3\\lib\\site-packages\\openpyxl\\styles\\stylesheet.py:214: UserWarning: Workbook contains no default style, apply openpyxl's default\n",
      "  warn(\"Workbook contains no default style, apply openpyxl's default\")\n"
     ]
    }
   ],
   "source": [
    "w_08 = pd.read_excel('../data/rawdata/water/water_2008.xlsx', engine='openpyxl')\n",
    "w_09 = pd.read_excel('../data/rawdata/water/water_2009.xlsx', engine='openpyxl')\n",
    "w_10 = pd.read_excel('../data/rawdata/water/water_2010.xlsx', engine='openpyxl')\n",
    "w_11 = pd.read_excel('../data/rawdata/water/water_2011.xlsx', engine='openpyxl')\n",
    "w_12 = pd.read_excel('../data/rawdata/water/water_2012.xlsx', engine='openpyxl')\n",
    "w_13 = pd.read_excel('../data/rawdata/water/water_2013.xlsx', engine='openpyxl')\n",
    "w_14 = pd.read_excel('../data/rawdata/water/water_2014.xlsx', engine='openpyxl')\n",
    "w_15 = pd.read_excel('../data/rawdata/water/water_2015.xlsx', engine='openpyxl')\n",
    "w_16 = pd.read_excel('../data/rawdata/water/water_2016.xlsx', engine='openpyxl')\n",
    "w_17 = pd.read_excel('../data/rawdata/water/water_2017.xlsx', engine='openpyxl')\n",
    "w_18 = pd.read_excel('../data/rawdata/water/water_2018.xlsx', engine='openpyxl')\n",
    "w_19 = pd.read_excel('../data/rawdata/water/water_2019.xlsx', engine='openpyxl')"
   ]
  },
  {
   "cell_type": "code",
   "execution_count": 148,
   "metadata": {
    "ExecuteTime": {
     "end_time": "2021-07-20T14:08:36.379902Z",
     "start_time": "2021-07-20T14:08:36.292169Z"
    },
    "hidden": true
   },
   "outputs": [
    {
     "name": "stdout",
     "output_type": "stream",
     "text": [
      "납(기준:0.05/ 단위:(mg/L))\n",
      "비소(기준:0.05/ 단위:(mg/L))\n",
      "망간(기준:0.3/ 단위:(mg/L))\n"
     ]
    }
   ],
   "source": [
    "# 2008 & 2019년 컬럼명 비교\n",
    "for idx in w_08.columns:\n",
    "    if not(idx in w_19.columns):              # 납, 비소, 망간 False\n",
    "        print(idx)"
   ]
  },
  {
   "cell_type": "markdown",
   "metadata": {
    "hidden": true
   },
   "source": [
    "**<2019년 자료 컬럼명>**\n",
    "* 납(기준:0.01/ 단위:(mg/L))\n",
    "* 비소(기준:0.01/ 단위:(mg/L))\n",
    "* 망간(기준:0.05/ 단위:(mg/L))\n",
    "\n",
    "--> 같은 물질인데 기준만 다른 경우가 있을 수 있음을 확인"
   ]
  },
  {
   "cell_type": "code",
   "execution_count": 149,
   "metadata": {
    "ExecuteTime": {
     "end_time": "2021-07-20T14:08:36.822717Z",
     "start_time": "2021-07-20T14:08:36.391871Z"
    },
    "hidden": true,
    "scrolled": true
   },
   "outputs": [
    {
     "data": {
      "text/plain": [
       "'19년에만 있는 컬럼:'"
      ]
     },
     "metadata": {},
     "output_type": "display_data"
    },
    {
     "data": {
      "text/plain": [
       "{'1,4-다이옥산(기준:0.05/ 단위:(mg/L))',\n",
       " 'Uranium(기준:30/ 단위:㎍/L)',\n",
       " '납(기준:0.01/ 단위:(mg/L))',\n",
       " '디브로모클로로메탄(기준:0.1/ 단위:(mg/L))',\n",
       " '망간(기준:0.05/ 단위:(mg/L))',\n",
       " '브로모디클로로메탄(기준:0.03/ 단위:(mg/L))',\n",
       " '브롬산염(기준:0.01/ 단위:(mg/L))',\n",
       " '비소(기준:0.01/ 단위:(mg/L))',\n",
       " '포름알데히드(기준:0.5/ 단위:(mg/L))'}"
      ]
     },
     "metadata": {},
     "output_type": "display_data"
    },
    {
     "data": {
      "text/plain": [
       "'08년에만 있는 컬럼:'"
      ]
     },
     "metadata": {},
     "output_type": "display_data"
    },
    {
     "data": {
      "text/plain": [
       "{'납(기준:0.05/ 단위:(mg/L))', '망간(기준:0.3/ 단위:(mg/L))', '비소(기준:0.05/ 단위:(mg/L))'}"
      ]
     },
     "metadata": {},
     "output_type": "display_data"
    }
   ],
   "source": [
    "display('19년에만 있는 컬럼:', set(w_19.columns) - set(w_08.columns))\n",
    "display('08년에만 있는 컬럼:', set(w_08.columns) - set(w_19.columns))"
   ]
  },
  {
   "cell_type": "code",
   "execution_count": 150,
   "metadata": {
    "ExecuteTime": {
     "end_time": "2021-07-20T14:08:37.135879Z",
     "start_time": "2021-07-20T14:08:36.832690Z"
    },
    "hidden": true
   },
   "outputs": [],
   "source": [
    "w_08.rename({'납(기준:0.05/ 단위:(mg/L))':'납(기준:0.01/ 단위:(mg/L))', '망간(기준:0.3/ 단위:(mg/L))':'망간(기준:0.05/ 단위:(mg/L))', \n",
    "             '비소(기준:0.05/ 단위:(mg/L))':'비소(기준:0.01/ 단위:(mg/L))'}, axis=1, inplace=True)"
   ]
  },
  {
   "cell_type": "markdown",
   "metadata": {
    "ExecuteTime": {
     "end_time": "2021-07-20T07:47:17.043500Z",
     "start_time": "2021-07-20T07:47:17.019564Z"
    },
    "hidden": true
   },
   "source": [
    "> 양쪽에 공통으로 있는 물질인데 기준이 다른 경우: 2019년 기준으로 통일 <br> \n",
    "> 공통적이지 않은 항목: drop <br>\n",
    "> --> 컬럼을 바로 drop할 수는 없고, 많은 연도에 걸쳐서 없는 컬럼을 확인한 뒤 drop"
   ]
  },
  {
   "cell_type": "markdown",
   "metadata": {
    "hidden": true
   },
   "source": [
    "### 2009년\n",
    "1,4-다이옥산 컬럼이 나타나기 시작하였으나 값은 모두 NaN --> 컬럼 drop"
   ]
  },
  {
   "cell_type": "code",
   "execution_count": 151,
   "metadata": {
    "ExecuteTime": {
     "end_time": "2021-07-20T14:08:37.482952Z",
     "start_time": "2021-07-20T14:08:37.143860Z"
    },
    "hidden": true
   },
   "outputs": [
    {
     "data": {
      "text/plain": [
       "'19년에만 있는 컬럼:'"
      ]
     },
     "metadata": {},
     "output_type": "display_data"
    },
    {
     "data": {
      "text/plain": [
       "{'Uranium(기준:30/ 단위:㎍/L)',\n",
       " '납(기준:0.01/ 단위:(mg/L))',\n",
       " '망간(기준:0.05/ 단위:(mg/L))',\n",
       " '브롬산염(기준:0.01/ 단위:(mg/L))',\n",
       " '비소(기준:0.01/ 단위:(mg/L))',\n",
       " '포름알데히드(기준:0.5/ 단위:(mg/L))'}"
      ]
     },
     "metadata": {},
     "output_type": "display_data"
    },
    {
     "data": {
      "text/plain": [
       "'09년에만 있는 컬럼:'"
      ]
     },
     "metadata": {},
     "output_type": "display_data"
    },
    {
     "data": {
      "text/plain": [
       "{'납(기준:0.05/ 단위:(mg/L))', '망간(기준:0.3/ 단위:(mg/L))', '비소(기준:0.05/ 단위:(mg/L))'}"
      ]
     },
     "metadata": {},
     "output_type": "display_data"
    }
   ],
   "source": [
    "display('19년에만 있는 컬럼:', set(w_19.columns) - set(w_09.columns))\n",
    "display('09년에만 있는 컬럼:', set(w_09.columns) - set(w_19.columns))"
   ]
  },
  {
   "cell_type": "code",
   "execution_count": 152,
   "metadata": {
    "ExecuteTime": {
     "end_time": "2021-07-20T14:08:37.639536Z",
     "start_time": "2021-07-20T14:08:37.489934Z"
    },
    "hidden": true
   },
   "outputs": [],
   "source": [
    "w_09.rename({'납(기준:0.05/ 단위:(mg/L))':'납(기준:0.01/ 단위:(mg/L))', '망간(기준:0.3/ 단위:(mg/L))':'망간(기준:0.05/ 단위:(mg/L))', \n",
    "             '비소(기준:0.05/ 단위:(mg/L))':'비소(기준:0.01/ 단위:(mg/L))'}, axis=1, inplace=True)"
   ]
  },
  {
   "cell_type": "code",
   "execution_count": 173,
   "metadata": {
    "ExecuteTime": {
     "end_time": "2021-07-20T17:30:00.213133Z",
     "start_time": "2021-07-20T17:30:00.004687Z"
    },
    "hidden": true
   },
   "outputs": [],
   "source": [
    "w_09.drop('1,4-다이옥산(기준:0.05/ 단위:(mg/L))', axis=1, inplace=True)"
   ]
  },
  {
   "cell_type": "markdown",
   "metadata": {
    "hidden": true
   },
   "source": [
    "### 2010년"
   ]
  },
  {
   "cell_type": "code",
   "execution_count": 153,
   "metadata": {
    "ExecuteTime": {
     "end_time": "2021-07-20T14:08:38.003561Z",
     "start_time": "2021-07-20T14:08:37.649507Z"
    },
    "hidden": true
   },
   "outputs": [
    {
     "data": {
      "text/plain": [
       "'19년에만 있는 컬럼:'"
      ]
     },
     "metadata": {},
     "output_type": "display_data"
    },
    {
     "data": {
      "text/plain": [
       "{'Uranium(기준:30/ 단위:㎍/L)',\n",
       " '납(기준:0.01/ 단위:(mg/L))',\n",
       " '망간(기준:0.05/ 단위:(mg/L))',\n",
       " '브롬산염(기준:0.01/ 단위:(mg/L))',\n",
       " '비소(기준:0.01/ 단위:(mg/L))',\n",
       " '포름알데히드(기준:0.5/ 단위:(mg/L))'}"
      ]
     },
     "metadata": {},
     "output_type": "display_data"
    },
    {
     "data": {
      "text/plain": [
       "'10년에만 있는 컬럼:'"
      ]
     },
     "metadata": {},
     "output_type": "display_data"
    },
    {
     "data": {
      "text/plain": [
       "{'납(기준:0.05/ 단위:(mg/L))', '망간(기준:0.3/ 단위:(mg/L))', '비소(기준:0.05/ 단위:(mg/L))'}"
      ]
     },
     "metadata": {},
     "output_type": "display_data"
    }
   ],
   "source": [
    "display('19년에만 있는 컬럼:', set(w_19.columns) - set(w_10.columns))\n",
    "display('10년에만 있는 컬럼:', set(w_10.columns) - set(w_19.columns))"
   ]
  },
  {
   "cell_type": "code",
   "execution_count": 154,
   "metadata": {
    "ExecuteTime": {
     "end_time": "2021-07-20T14:08:38.034476Z",
     "start_time": "2021-07-20T14:08:38.013533Z"
    },
    "hidden": true
   },
   "outputs": [],
   "source": [
    "w_10.rename({'납(기준:0.05/ 단위:(mg/L))':'납(기준:0.01/ 단위:(mg/L))', '망간(기준:0.3/ 단위:(mg/L))':'망간(기준:0.05/ 단위:(mg/L))', \n",
    "             '비소(기준:0.05/ 단위:(mg/L))':'비소(기준:0.01/ 단위:(mg/L))'}, axis=1, inplace=True)"
   ]
  },
  {
   "cell_type": "markdown",
   "metadata": {
    "hidden": true
   },
   "source": [
    "### 2011년"
   ]
  },
  {
   "cell_type": "code",
   "execution_count": 155,
   "metadata": {
    "ExecuteTime": {
     "end_time": "2021-07-20T14:08:38.220979Z",
     "start_time": "2021-07-20T14:08:38.042455Z"
    },
    "hidden": true
   },
   "outputs": [
    {
     "data": {
      "text/plain": [
       "'19년에만 있는 컬럼:'"
      ]
     },
     "metadata": {},
     "output_type": "display_data"
    },
    {
     "data": {
      "text/plain": [
       "{'Uranium(기준:30/ 단위:㎍/L)',\n",
       " '브롬산염(기준:0.01/ 단위:(mg/L))',\n",
       " '포름알데히드(기준:0.5/ 단위:(mg/L))'}"
      ]
     },
     "metadata": {},
     "output_type": "display_data"
    },
    {
     "data": {
      "text/plain": [
       "'11년에만 있는 컬럼:'"
      ]
     },
     "metadata": {},
     "output_type": "display_data"
    },
    {
     "data": {
      "text/plain": [
       "set()"
      ]
     },
     "metadata": {},
     "output_type": "display_data"
    }
   ],
   "source": [
    "display('19년에만 있는 컬럼:', set(w_19.columns) - set(w_11.columns))\n",
    "display('11년에만 있는 컬럼:', set(w_11.columns) - set(w_19.columns))"
   ]
  },
  {
   "cell_type": "markdown",
   "metadata": {
    "hidden": true
   },
   "source": [
    "### 2012년"
   ]
  },
  {
   "cell_type": "code",
   "execution_count": 156,
   "metadata": {
    "ExecuteTime": {
     "end_time": "2021-07-20T14:08:38.442386Z",
     "start_time": "2021-07-20T14:08:38.226962Z"
    },
    "hidden": true
   },
   "outputs": [
    {
     "data": {
      "text/plain": [
       "'19년에만 있는 컬럼:'"
      ]
     },
     "metadata": {},
     "output_type": "display_data"
    },
    {
     "data": {
      "text/plain": [
       "{'Uranium(기준:30/ 단위:㎍/L)',\n",
       " '브롬산염(기준:0.01/ 단위:(mg/L))',\n",
       " '포름알데히드(기준:0.5/ 단위:(mg/L))'}"
      ]
     },
     "metadata": {},
     "output_type": "display_data"
    },
    {
     "data": {
      "text/plain": [
       "'12년에만 있는 컬럼:'"
      ]
     },
     "metadata": {},
     "output_type": "display_data"
    },
    {
     "data": {
      "text/plain": [
       "set()"
      ]
     },
     "metadata": {},
     "output_type": "display_data"
    }
   ],
   "source": [
    "display('19년에만 있는 컬럼:', set(w_19.columns) - set(w_12.columns))\n",
    "display('12년에만 있는 컬럼:', set(w_12.columns) - set(w_19.columns))"
   ]
  },
  {
   "cell_type": "markdown",
   "metadata": {
    "hidden": true
   },
   "source": [
    "### 2013년"
   ]
  },
  {
   "cell_type": "code",
   "execution_count": 157,
   "metadata": {
    "ExecuteTime": {
     "end_time": "2021-07-20T14:08:38.584007Z",
     "start_time": "2021-07-20T14:08:38.446376Z"
    },
    "hidden": true
   },
   "outputs": [
    {
     "data": {
      "text/plain": [
       "'19년에만 있는 컬럼:'"
      ]
     },
     "metadata": {},
     "output_type": "display_data"
    },
    {
     "data": {
      "text/plain": [
       "{'Uranium(기준:30/ 단위:㎍/L)',\n",
       " '브롬산염(기준:0.01/ 단위:(mg/L))',\n",
       " '포름알데히드(기준:0.5/ 단위:(mg/L))'}"
      ]
     },
     "metadata": {},
     "output_type": "display_data"
    },
    {
     "data": {
      "text/plain": [
       "'13년에만 있는 컬럼:'"
      ]
     },
     "metadata": {},
     "output_type": "display_data"
    },
    {
     "data": {
      "text/plain": [
       "set()"
      ]
     },
     "metadata": {},
     "output_type": "display_data"
    }
   ],
   "source": [
    "display('19년에만 있는 컬럼:', set(w_19.columns) - set(w_13.columns))\n",
    "display('13년에만 있는 컬럼:', set(w_13.columns) - set(w_19.columns))"
   ]
  },
  {
   "cell_type": "markdown",
   "metadata": {
    "hidden": true
   },
   "source": [
    "### 2014년"
   ]
  },
  {
   "cell_type": "code",
   "execution_count": 158,
   "metadata": {
    "ExecuteTime": {
     "end_time": "2021-07-20T14:08:38.663793Z",
     "start_time": "2021-07-20T14:08:38.588992Z"
    },
    "hidden": true
   },
   "outputs": [
    {
     "data": {
      "text/plain": [
       "'19년에만 있는 컬럼:'"
      ]
     },
     "metadata": {},
     "output_type": "display_data"
    },
    {
     "data": {
      "text/plain": [
       "{'Uranium(기준:30/ 단위:㎍/L)', '브롬산염(기준:0.01/ 단위:(mg/L))'}"
      ]
     },
     "metadata": {},
     "output_type": "display_data"
    },
    {
     "data": {
      "text/plain": [
       "'14년에만 있는 컬럼:'"
      ]
     },
     "metadata": {},
     "output_type": "display_data"
    },
    {
     "data": {
      "text/plain": [
       "set()"
      ]
     },
     "metadata": {},
     "output_type": "display_data"
    }
   ],
   "source": [
    "display('19년에만 있는 컬럼:', set(w_19.columns) - set(w_14.columns))\n",
    "display('14년에만 있는 컬럼:', set(w_14.columns) - set(w_19.columns))"
   ]
  },
  {
   "cell_type": "markdown",
   "metadata": {
    "hidden": true
   },
   "source": [
    "### 2015년"
   ]
  },
  {
   "cell_type": "code",
   "execution_count": 159,
   "metadata": {
    "ExecuteTime": {
     "end_time": "2021-07-20T14:08:38.791450Z",
     "start_time": "2021-07-20T14:08:38.668780Z"
    },
    "hidden": true
   },
   "outputs": [
    {
     "data": {
      "text/plain": [
       "'19년에만 있는 컬럼:'"
      ]
     },
     "metadata": {},
     "output_type": "display_data"
    },
    {
     "data": {
      "text/plain": [
       "{'Uranium(기준:30/ 단위:㎍/L)', '브롬산염(기준:0.01/ 단위:(mg/L))'}"
      ]
     },
     "metadata": {},
     "output_type": "display_data"
    },
    {
     "data": {
      "text/plain": [
       "'15년에만 있는 컬럼:'"
      ]
     },
     "metadata": {},
     "output_type": "display_data"
    },
    {
     "data": {
      "text/plain": [
       "set()"
      ]
     },
     "metadata": {},
     "output_type": "display_data"
    }
   ],
   "source": [
    "display('19년에만 있는 컬럼:', set(w_19.columns) - set(w_15.columns))\n",
    "display('15년에만 있는 컬럼:', set(w_15.columns) - set(w_19.columns))"
   ]
  },
  {
   "cell_type": "markdown",
   "metadata": {
    "hidden": true
   },
   "source": [
    "### 2016년"
   ]
  },
  {
   "cell_type": "code",
   "execution_count": 160,
   "metadata": {
    "ExecuteTime": {
     "end_time": "2021-07-20T14:08:38.839325Z",
     "start_time": "2021-07-20T14:08:38.798433Z"
    },
    "hidden": true
   },
   "outputs": [
    {
     "data": {
      "text/plain": [
       "'19년에만 있는 컬럼:'"
      ]
     },
     "metadata": {},
     "output_type": "display_data"
    },
    {
     "data": {
      "text/plain": [
       "{'Uranium(기준:30/ 단위:㎍/L)', '브롬산염(기준:0.01/ 단위:(mg/L))'}"
      ]
     },
     "metadata": {},
     "output_type": "display_data"
    },
    {
     "data": {
      "text/plain": [
       "'16년에만 있는 컬럼:'"
      ]
     },
     "metadata": {},
     "output_type": "display_data"
    },
    {
     "data": {
      "text/plain": [
       "set()"
      ]
     },
     "metadata": {},
     "output_type": "display_data"
    }
   ],
   "source": [
    "display('19년에만 있는 컬럼:', set(w_19.columns) - set(w_16.columns))\n",
    "display('16년에만 있는 컬럼:', set(w_16.columns) - set(w_19.columns))"
   ]
  },
  {
   "cell_type": "markdown",
   "metadata": {
    "hidden": true
   },
   "source": [
    "### 2017년"
   ]
  },
  {
   "cell_type": "code",
   "execution_count": 161,
   "metadata": {
    "ExecuteTime": {
     "end_time": "2021-07-20T14:08:38.996902Z",
     "start_time": "2021-07-20T14:08:38.843312Z"
    },
    "hidden": true
   },
   "outputs": [
    {
     "data": {
      "text/plain": [
       "'19년에만 있는 컬럼:'"
      ]
     },
     "metadata": {},
     "output_type": "display_data"
    },
    {
     "data": {
      "text/plain": [
       "{'Uranium(기준:30/ 단위:㎍/L)'}"
      ]
     },
     "metadata": {},
     "output_type": "display_data"
    },
    {
     "data": {
      "text/plain": [
       "'17년에만 있는 컬럼:'"
      ]
     },
     "metadata": {},
     "output_type": "display_data"
    },
    {
     "data": {
      "text/plain": [
       "set()"
      ]
     },
     "metadata": {},
     "output_type": "display_data"
    }
   ],
   "source": [
    "display('19년에만 있는 컬럼:', set(w_19.columns) - set(w_17.columns))\n",
    "display('17년에만 있는 컬럼:', set(w_17.columns) - set(w_19.columns))"
   ]
  },
  {
   "cell_type": "code",
   "execution_count": 175,
   "metadata": {
    "ExecuteTime": {
     "end_time": "2021-07-20T17:53:04.769409Z",
     "start_time": "2021-07-20T17:53:04.743478Z"
    },
    "hidden": true
   },
   "outputs": [],
   "source": [
    "w_17.drop('브롬산염(기준:0.01/ 단위:(mg/L))', axis=1, inplace=True)"
   ]
  },
  {
   "cell_type": "markdown",
   "metadata": {
    "hidden": true
   },
   "source": [
    "### 2018년"
   ]
  },
  {
   "cell_type": "code",
   "execution_count": 162,
   "metadata": {
    "ExecuteTime": {
     "end_time": "2021-07-20T14:08:39.282139Z",
     "start_time": "2021-07-20T14:08:39.009867Z"
    },
    "hidden": true
   },
   "outputs": [
    {
     "data": {
      "text/plain": [
       "'19년에만 있는 컬럼:'"
      ]
     },
     "metadata": {},
     "output_type": "display_data"
    },
    {
     "data": {
      "text/plain": [
       "{'Uranium(기준:30/ 단위:㎍/L)'}"
      ]
     },
     "metadata": {},
     "output_type": "display_data"
    },
    {
     "data": {
      "text/plain": [
       "'09년에만 있는 컬럼:'"
      ]
     },
     "metadata": {},
     "output_type": "display_data"
    },
    {
     "data": {
      "text/plain": [
       "set()"
      ]
     },
     "metadata": {},
     "output_type": "display_data"
    }
   ],
   "source": [
    "display('19년에만 있는 컬럼:', set(w_19.columns) - set(w_18.columns))\n",
    "display('09년에만 있는 컬럼:', set(w_18.columns) - set(w_19.columns))"
   ]
  },
  {
   "cell_type": "code",
   "execution_count": 176,
   "metadata": {
    "ExecuteTime": {
     "end_time": "2021-07-20T17:53:34.748392Z",
     "start_time": "2021-07-20T17:53:34.732436Z"
    },
    "hidden": true
   },
   "outputs": [],
   "source": [
    "w_18.drop('브롬산염(기준:0.01/ 단위:(mg/L))', axis=1, inplace=True)"
   ]
  },
  {
   "cell_type": "markdown",
   "metadata": {
    "hidden": true
   },
   "source": [
    "### 2019년"
   ]
  },
  {
   "cell_type": "code",
   "execution_count": 163,
   "metadata": {
    "ExecuteTime": {
     "end_time": "2021-07-20T14:08:39.328016Z",
     "start_time": "2021-07-20T14:08:39.288122Z"
    },
    "hidden": true
   },
   "outputs": [],
   "source": [
    "w_19.drop(['Uranium(기준:30/ 단위:㎍/L)', '브롬산염(기준:0.01/ 단위:(mg/L))'], axis=1, inplace=True)"
   ]
  },
  {
   "cell_type": "markdown",
   "metadata": {
    "hidden": true
   },
   "source": [
    "* **'1,4-다이옥산(기준:0.05/ 단위:(mg/L))', '디브로모클로로메탄(기준:0.1/ 단위:(mg/L))', '브로모디클로로메탄(기준:0.03/ 단위:(mg/L))': 2008년만 없음 --> 포함**\n",
    "* **'포름알데히드(기준:0.5/ 단위:(mg/L))': 2014년부터 등장 -->  전체 기간 중 1/2 기간에 등장 --> 포함**\n",
    "* '브롬산염(기준:0.01/ 단위:(mg/L))': 2017년부터 등장 --> 제외\n",
    "* 'Uranium(기준:30/ 단위:㎍/L)': 2019년만 등장 --> 제외"
   ]
  },
  {
   "cell_type": "markdown",
   "metadata": {
    "hidden": true
   },
   "source": [
    "### Unnecessary Column Drop & Save Each Year Dataframe\n",
    "Choose_Preprocessing_Method 파일에서 총 12개년 전체에 대해 drop 가능한 컬럼을 분석한 결과를 사용"
   ]
  },
  {
   "cell_type": "code",
   "execution_count": 178,
   "metadata": {
    "ExecuteTime": {
     "end_time": "2021-07-20T17:59:27.838526Z",
     "start_time": "2021-07-20T17:56:59.552876Z"
    },
    "hidden": true
   },
   "outputs": [],
   "source": [
    "year = 2008   # file name suffix\n",
    "\n",
    "for df in [w_08, w_09, w_10, w_11, w_12, w_13, w_14, w_15, w_16, w_17, w_18, w_19]:\n",
    "    df1 = df.drop(['시설명', '소재지', '수원', '채수년월일', '총대장균군(기준:0/ 단위:MPN)', '대장균/분원성대장균군(기준:0/ 단위:MPN)',\n",
    "             '냄새(기준:0/ 단위:(mg/L))', '맛(기준:0/ 단위:(mg/L))', '탁도(기준:0.5/ 단위:(NTU))'], axis=1)\n",
    "    df1.dropna(subset=['수도사업자'], axis=0, inplace=True)        # 수도사업자 값이 없으면 drop\n",
    "    df1.rename({'수도사업자':'지역'}, axis=1, inplace=True)\n",
    "    \n",
    "    df1.to_excel('../data/refined/water/water_{}.xlsx'.format(year))\n",
    "    year += 1"
   ]
  },
  {
   "cell_type": "markdown",
   "metadata": {
    "hidden": true
   },
   "source": [
    "---\n",
    "---"
   ]
  },
  {
   "cell_type": "markdown",
   "metadata": {},
   "source": [
    "## For Health Data\n",
    "연도별 컬럼이 같은 내용이더라도 명칭이나 띄어쓰기가 다른 것을 맞춰야 함\n",
    "* '비만율(신체계측)_표준화율': 자가보고, 신체계측 등 매년 일정하지 않음 --> 제외\n",
    "* **'삶의 질 지수(EQ-5D)_표준화율' = '삶의질지수_표준화율'**\n",
    "* **'양호한 주관적 건강수준 인지율_표준화율'** \n",
    "* '행복감 지수_표준화율': 간헐적으로(2011, 2015...) 있음 --> 제외\n",
    "* **'스트레스 인지율_표준화율'**\n",
    "* **'우울감 경험률_표준화율'**\n",
    "* '인지장애 경험률(50세 이상)_표준화율': 연령 한정적이며 없는 연도 있음 --> 제외 \n",
    "* **'주관적 구강건강이 나쁜 인구의 분율_표준화율'**\n",
    "* '스트레스로 인한 정신상담률_표준화율': 없는 연도(2008년) 있으며, 스트레스 항목은 별도로 있으므로 제외\n",
    "* '우울증상으로 인한 정신상담률_표준화율': 위와 동일\n",
    "* **'연간 보건기관 이용률_표준화율': 확인하고 싶은 내용이라 있는 연도만 모으기로!  ==>  2009년 ~**"
   ]
  },
  {
   "cell_type": "code",
   "execution_count": 180,
   "metadata": {
    "ExecuteTime": {
     "end_time": "2021-07-20T23:42:21.779301Z",
     "start_time": "2021-07-20T23:41:39.553262Z"
    }
   },
   "outputs": [],
   "source": [
    "# 2008년 건강지표 데이터\n",
    "h_idx = ['시도', '삶의질지수_표준화율', '양호한주관적건강수준인지율_표준화율', '스트레스인지율_표준화율', '우울감경험률_표준화율', \n",
    "         '주관적구강건강이나쁜인구의분율_표준화율']\n",
    "h_08 = pd.read_excel('../data/rawdata/health/health_2008_2018.xlsx', sheet_name=4, usecols=h_idx, nrows=17)    "
   ]
  },
  {
   "cell_type": "code",
   "execution_count": 181,
   "metadata": {
    "ExecuteTime": {
     "end_time": "2021-07-20T23:42:57.813911Z",
     "start_time": "2021-07-20T23:42:21.783292Z"
    }
   },
   "outputs": [],
   "source": [
    "# 2009년 건강지표 데이터\n",
    "h_idx = ['시도', '삶의질지수_표준화율', '양호한주관적건강수준인지율_표준화율', '스트레스인지율_표준화율', '우울감경험률_표준화율', \n",
    "         '주관적구강건강이나쁜인구의분율_표준화율', '연간보건기관이용률_표준화율']\n",
    "h_09 = pd.read_excel('../data/rawdata/health/health_2008_2018.xlsx', sheet_name=5, usecols=h_idx, nrows=17) "
   ]
  },
  {
   "cell_type": "code",
   "execution_count": 182,
   "metadata": {
    "ExecuteTime": {
     "end_time": "2021-07-20T23:43:31.091672Z",
     "start_time": "2021-07-20T23:42:57.818899Z"
    }
   },
   "outputs": [],
   "source": [
    "# 2010년 건강지표 데이터\n",
    "h_idx = ['시도', '삶의질지수_표준화율', '양호한주관적건강수준인지율_표준화율', '스트레스인지율_표준화율', '우울감경험률_표준화율', \n",
    "         '주관적구강건강이나쁜인구의분율_표준화율', '연간보건기관이용률_표준화율']\n",
    "h_10 = pd.read_excel('../data/rawdata/health/health_2008_2018.xlsx', sheet_name=6, usecols=h_idx, nrows=17)"
   ]
  },
  {
   "cell_type": "code",
   "execution_count": 183,
   "metadata": {
    "ExecuteTime": {
     "end_time": "2021-07-20T23:44:10.610970Z",
     "start_time": "2021-07-20T23:43:31.096667Z"
    }
   },
   "outputs": [],
   "source": [
    "# 2011년 건강지표 데이터\n",
    "h_idx = ['시도', '삶의질지수_표준화율', '양호한주관적건강수준인지율_표준화율', '스트레스인지율_표준화율', '우울감경험률_표준화율', \n",
    "         '주관적구강건강이나쁜인구의분율_표준화율', '연간보건기관이용률_표준화율']\n",
    "h_11 = pd.read_excel('../data/rawdata/health/health_2008_2018.xlsx', sheet_name=7, usecols=h_idx, nrows=17)"
   ]
  },
  {
   "cell_type": "code",
   "execution_count": 185,
   "metadata": {
    "ExecuteTime": {
     "end_time": "2021-07-20T23:46:18.935688Z",
     "start_time": "2021-07-20T23:45:40.958274Z"
    }
   },
   "outputs": [],
   "source": [
    "# 2012년 건강지표 데이터\n",
    "h_idx = ['시도', '삶의질지수_표준화율', '양호한주관적건강수준인지율_표준화율', '스트레스인지율_표준화율', '우울감경험률_표준화율', \n",
    "         '주관적구강건강이나쁜인구의분율_표준화율', '연간보건기관이용률_표준화율']\n",
    "h_12 = pd.read_excel('../data/rawdata/health/health_2008_2018.xlsx', sheet_name=8, usecols=h_idx, nrows=18)"
   ]
  },
  {
   "cell_type": "code",
   "execution_count": 186,
   "metadata": {
    "ExecuteTime": {
     "end_time": "2021-07-20T23:46:51.289132Z",
     "start_time": "2021-07-20T23:46:18.939676Z"
    }
   },
   "outputs": [],
   "source": [
    "# 2013년 건강지표 데이터\n",
    "h_idx = ['시도', '삶의질지수_표준화율', '양호한주관적건강수준인지율_표준화율', '스트레스인지율_표준화율', '우울감경험률_표준화율', \n",
    "         '주관적구강건강이나쁜인구의분율_표준화율', '연간보건기관이용률_표준화율']\n",
    "h_13 = pd.read_excel('../data/rawdata/health/health_2008_2018.xlsx', sheet_name=9, usecols=h_idx, nrows=18)"
   ]
  },
  {
   "cell_type": "code",
   "execution_count": 187,
   "metadata": {
    "ExecuteTime": {
     "end_time": "2021-07-20T23:47:23.380967Z",
     "start_time": "2021-07-20T23:46:51.295125Z"
    }
   },
   "outputs": [],
   "source": [
    "# 2014년 건강지표 데이터\n",
    "h_idx = ['시도', '삶의질지수_표준화율', '양호한주관적건강수준인지율_표준화율', '스트레스인지율_표준화율', '우울감경험률_표준화율', \n",
    "         '주관적구강건강이나쁜인구의분율_표준화율', '연간보건기관이용률_표준화율']\n",
    "h_14 = pd.read_excel('../data/rawdata/health/health_2008_2018.xlsx', sheet_name=10, usecols=h_idx, nrows=18)"
   ]
  },
  {
   "cell_type": "code",
   "execution_count": 188,
   "metadata": {
    "ExecuteTime": {
     "end_time": "2021-07-20T23:48:04.165880Z",
     "start_time": "2021-07-20T23:47:23.385965Z"
    }
   },
   "outputs": [],
   "source": [
    "# 2015년 건강지표 데이터\n",
    "h_idx = ['시도', '삶의질지수_표준화율', '양호한주관적건강수준인지율_표준화율', '스트레스인지율_표준화율', '우울감경험률_표준화율', \n",
    "         '주관적구강건강이나쁜인구의분율_표준화율', '연간보건기관이용률_표준화율']\n",
    "h_15 = pd.read_excel('../data/rawdata/health/health_2008_2018.xlsx', sheet_name=11, usecols=h_idx, nrows=18)"
   ]
  },
  {
   "cell_type": "code",
   "execution_count": 189,
   "metadata": {
    "ExecuteTime": {
     "end_time": "2021-07-20T23:48:40.675668Z",
     "start_time": "2021-07-20T23:48:04.171866Z"
    }
   },
   "outputs": [],
   "source": [
    "# 2016년 건강지표 데이터\n",
    "h_idx = ['시도', '삶의질지수_표준화율', '양호한주관적건강수준인지율_표준화율', '스트레스인지율_표준화율', '우울감경험률_표준화율', \n",
    "         '주관적구강건강이나쁜인구의분율_표준화율', '연간보건기관이용률_표준화율']\n",
    "h_16 = pd.read_excel('../data/rawdata/health/health_2008_2018.xlsx', sheet_name=12, usecols=h_idx, nrows=18)"
   ]
  },
  {
   "cell_type": "code",
   "execution_count": 190,
   "metadata": {
    "ExecuteTime": {
     "end_time": "2021-07-20T23:49:14.759452Z",
     "start_time": "2021-07-20T23:48:40.678667Z"
    }
   },
   "outputs": [],
   "source": [
    "# 2017년 건강지표 데이터\n",
    "h_idx = ['시도', '삶의질지수_표준화율', '양호한주관적건강수준인지율_표준화율', '스트레스인지율_표준화율', '우울감경험률_표준화율', \n",
    "         '주관적구강건강이나쁜인구의분율_표준화율', '연간보건기관이용률_표준화율']\n",
    "h_17 = pd.read_excel('../data/rawdata/health/health_2008_2018.xlsx', sheet_name=13, usecols=h_idx, nrows=18)"
   ]
  },
  {
   "cell_type": "code",
   "execution_count": 191,
   "metadata": {
    "ExecuteTime": {
     "end_time": "2021-07-20T23:49:50.616547Z",
     "start_time": "2021-07-20T23:49:14.764450Z"
    }
   },
   "outputs": [],
   "source": [
    "# 2018년 건강지표 데이터\n",
    "h_idx = ['시도', '삶의질지수(EQ5D)_조율', '양호한주관적건강수준인지율_표준화율', '스트레스인지율_표준화율', '우울감경험률_표준화율', \n",
    "         '주관적구강건강이나쁜인구의분율_표준화율', '연간보건기관이용률_표준화율']\n",
    "h_18 = pd.read_excel('../data/rawdata/health/health_2008_2018.xlsx', sheet_name=14, usecols=h_idx, nrows=18)\n",
    "\n",
    "# 컬럼명 통일\n",
    "h_18.columns = ['시도', '삶의질지수_표준화율', '양호한주관적건강수준인지율_표준화율', '스트레스인지율_표준화율', '우울감경험률_표준화율', \n",
    "                 '주관적구강건강이나쁜인구의분율_표준화율', '연간보건기관이용률_표준화율']"
   ]
  },
  {
   "cell_type": "code",
   "execution_count": 192,
   "metadata": {
    "ExecuteTime": {
     "end_time": "2021-07-20T23:50:22.764552Z",
     "start_time": "2021-07-20T23:49:50.714286Z"
    }
   },
   "outputs": [],
   "source": [
    "# 2019년 건강지표 데이터 - 다른 연도랑 컬럼표기가 특히 다름!\n",
    "h_idx = ['시도', '삶의 질 지수(EQ-5D)_표준화율', '양호한 주관적 건강수준 인지율_표준화율', '스트레스 인지율_표준화율', '우울감 경험률_표준화율', \n",
    "         '주관적 구강건강이 나쁜 인구의 분율_표준화율', '연간 보건기관 이용률_조율']\n",
    "h_19 = pd.read_excel('../data/rawdata/health/health_2008_2018.xlsx', sheet_name=15, usecols=h_idx, nrows=18)\n",
    "\n",
    "h_19.columns = ['시도', '삶의질지수_표준화율', '양호한주관적건강수준인지율_표준화율', '스트레스인지율_표준화율', '우울감경험률_표준화율', \n",
    "                 '주관적구강건강이나쁜인구의분율_표준화율', '연간보건기관이용률_표준화율']"
   ]
  },
  {
   "cell_type": "code",
   "execution_count": 8,
   "metadata": {
    "ExecuteTime": {
     "end_time": "2021-07-25T21:42:26.941088Z",
     "start_time": "2021-07-25T21:41:47.931284Z"
    },
    "collapsed": true
   },
   "outputs": [
    {
     "data": {
      "text/html": [
       "<div>\n",
       "<style scoped>\n",
       "    .dataframe tbody tr th:only-of-type {\n",
       "        vertical-align: middle;\n",
       "    }\n",
       "\n",
       "    .dataframe tbody tr th {\n",
       "        vertical-align: top;\n",
       "    }\n",
       "\n",
       "    .dataframe thead th {\n",
       "        text-align: right;\n",
       "    }\n",
       "</style>\n",
       "<table border=\"1\" class=\"dataframe\">\n",
       "  <thead>\n",
       "    <tr style=\"text-align: right;\">\n",
       "      <th></th>\n",
       "      <th>번호</th>\n",
       "      <th>코드</th>\n",
       "      <th>시도</th>\n",
       "      <th>시군구</th>\n",
       "      <th>지역</th>\n",
       "      <th>CHS_No</th>\n",
       "      <th>총사망_사망자수_전체</th>\n",
       "      <th>총사망률_전체</th>\n",
       "      <th>총사망률_표준화사망률_전체</th>\n",
       "      <th>총사망_사망자수_남자</th>\n",
       "      <th>...</th>\n",
       "      <th>고혈압 진단경험자의 치료율_30세 이상_조율</th>\n",
       "      <th>고혈압 진단경험자의 치료율_30세 이상_표준화율</th>\n",
       "      <th>당뇨병 진단경험자의 치료율_조율</th>\n",
       "      <th>당뇨병 진단경험자의 치료율_표준화율</th>\n",
       "      <th>당뇨병 진단경험자의 치료율_30세 이상_조율</th>\n",
       "      <th>당뇨병 진단경험자의 치료율_30세 이상_표준화율</th>\n",
       "      <th>연간 당뇨성 안질환 합병증 검사수진율_30세 이상_조율</th>\n",
       "      <th>연간 당뇨성 안질환 합병증 검사수진율_30세 이상_표준화율</th>\n",
       "      <th>연간 당뇨성 신장질환 합병증 검사수진율_30세 이상_조율</th>\n",
       "      <th>연간 당뇨성 신장질환 합병증 검사수진율_30세 이상_표준화율</th>\n",
       "    </tr>\n",
       "  </thead>\n",
       "  <tbody>\n",
       "    <tr>\n",
       "      <th>0</th>\n",
       "      <td>1</td>\n",
       "      <td>0</td>\n",
       "      <td>전국</td>\n",
       "      <td>전국</td>\n",
       "      <td>전국</td>\n",
       "      <td></td>\n",
       "      <td>295110.0</td>\n",
       "      <td>574.8</td>\n",
       "      <td>305.4</td>\n",
       "      <td>160322.0</td>\n",
       "      <td>...</td>\n",
       "      <td>NaN</td>\n",
       "      <td>NaN</td>\n",
       "      <td>NaN</td>\n",
       "      <td>NaN</td>\n",
       "      <td>NaN</td>\n",
       "      <td>NaN</td>\n",
       "      <td>NaN</td>\n",
       "      <td>NaN</td>\n",
       "      <td>NaN</td>\n",
       "      <td>NaN</td>\n",
       "    </tr>\n",
       "    <tr>\n",
       "      <th>1</th>\n",
       "      <td>2</td>\n",
       "      <td>11</td>\n",
       "      <td>서울특별시</td>\n",
       "      <td>서울특별시</td>\n",
       "      <td>서울특별시</td>\n",
       "      <td>A</td>\n",
       "      <td>43829.0</td>\n",
       "      <td>457.6</td>\n",
       "      <td>263.6</td>\n",
       "      <td>24859.0</td>\n",
       "      <td>...</td>\n",
       "      <td>90.5</td>\n",
       "      <td>90.0</td>\n",
       "      <td>91.6</td>\n",
       "      <td>90.5</td>\n",
       "      <td>91.9</td>\n",
       "      <td>90.9</td>\n",
       "      <td>53.3</td>\n",
       "      <td>53.2</td>\n",
       "      <td>62.8</td>\n",
       "      <td>62.5</td>\n",
       "    </tr>\n",
       "    <tr>\n",
       "      <th>2</th>\n",
       "      <td>3</td>\n",
       "      <td>21</td>\n",
       "      <td>부산광역시</td>\n",
       "      <td>부산광역시</td>\n",
       "      <td>부산광역시</td>\n",
       "      <td>B</td>\n",
       "      <td>22260.0</td>\n",
       "      <td>656.6</td>\n",
       "      <td>331.9</td>\n",
       "      <td>12198.0</td>\n",
       "      <td>...</td>\n",
       "      <td>92.7</td>\n",
       "      <td>91.1</td>\n",
       "      <td>94.0</td>\n",
       "      <td>93.6</td>\n",
       "      <td>94.0</td>\n",
       "      <td>93.6</td>\n",
       "      <td>49.3</td>\n",
       "      <td>49.7</td>\n",
       "      <td>54.0</td>\n",
       "      <td>55.3</td>\n",
       "    </tr>\n",
       "    <tr>\n",
       "      <th>3</th>\n",
       "      <td>4</td>\n",
       "      <td>22</td>\n",
       "      <td>대구광역시</td>\n",
       "      <td>대구광역시</td>\n",
       "      <td>대구광역시</td>\n",
       "      <td>C</td>\n",
       "      <td>13752.0</td>\n",
       "      <td>565.7</td>\n",
       "      <td>311.4</td>\n",
       "      <td>7509.0</td>\n",
       "      <td>...</td>\n",
       "      <td>93.0</td>\n",
       "      <td>92.0</td>\n",
       "      <td>93.8</td>\n",
       "      <td>92.2</td>\n",
       "      <td>93.8</td>\n",
       "      <td>92.8</td>\n",
       "      <td>44.6</td>\n",
       "      <td>44.1</td>\n",
       "      <td>53.0</td>\n",
       "      <td>54.4</td>\n",
       "    </tr>\n",
       "    <tr>\n",
       "      <th>4</th>\n",
       "      <td>5</td>\n",
       "      <td>23</td>\n",
       "      <td>인천광역시</td>\n",
       "      <td>인천광역시</td>\n",
       "      <td>인천광역시</td>\n",
       "      <td>D</td>\n",
       "      <td>15131.0</td>\n",
       "      <td>516.9</td>\n",
       "      <td>319.1</td>\n",
       "      <td>8322.0</td>\n",
       "      <td>...</td>\n",
       "      <td>91.7</td>\n",
       "      <td>90.8</td>\n",
       "      <td>92.5</td>\n",
       "      <td>92.6</td>\n",
       "      <td>92.9</td>\n",
       "      <td>92.8</td>\n",
       "      <td>48.2</td>\n",
       "      <td>47.9</td>\n",
       "      <td>57.4</td>\n",
       "      <td>56.6</td>\n",
       "    </tr>\n",
       "    <tr>\n",
       "      <th>...</th>\n",
       "      <td>...</td>\n",
       "      <td>...</td>\n",
       "      <td>...</td>\n",
       "      <td>...</td>\n",
       "      <td>...</td>\n",
       "      <td>...</td>\n",
       "      <td>...</td>\n",
       "      <td>...</td>\n",
       "      <td>...</td>\n",
       "      <td>...</td>\n",
       "      <td>...</td>\n",
       "      <td>...</td>\n",
       "      <td>...</td>\n",
       "      <td>...</td>\n",
       "      <td>...</td>\n",
       "      <td>...</td>\n",
       "      <td>...</td>\n",
       "      <td>...</td>\n",
       "      <td>...</td>\n",
       "      <td>...</td>\n",
       "      <td>...</td>\n",
       "    </tr>\n",
       "    <tr>\n",
       "      <th>291</th>\n",
       "      <td>292</td>\n",
       "      <td>39010</td>\n",
       "      <td>제주특별자치도</td>\n",
       "      <td>제주시 서부</td>\n",
       "      <td>제주제주시서부</td>\n",
       "      <td>253</td>\n",
       "      <td>NaN</td>\n",
       "      <td>NaN</td>\n",
       "      <td>NaN</td>\n",
       "      <td>NaN</td>\n",
       "      <td>...</td>\n",
       "      <td>94.7</td>\n",
       "      <td>93.0</td>\n",
       "      <td>95.0</td>\n",
       "      <td>90.9</td>\n",
       "      <td>95.0</td>\n",
       "      <td>91.9</td>\n",
       "      <td>45.2</td>\n",
       "      <td>39.7</td>\n",
       "      <td>63.7</td>\n",
       "      <td>64.6</td>\n",
       "    </tr>\n",
       "    <tr>\n",
       "      <th>292</th>\n",
       "      <td>293</td>\n",
       "      <td>39020</td>\n",
       "      <td>제주특별자치도</td>\n",
       "      <td>서귀포시</td>\n",
       "      <td>제주서귀포시</td>\n",
       "      <td>913</td>\n",
       "      <td>1287.0</td>\n",
       "      <td>715.2</td>\n",
       "      <td>324.9</td>\n",
       "      <td>675.0</td>\n",
       "      <td>...</td>\n",
       "      <td>94.5</td>\n",
       "      <td>93.8</td>\n",
       "      <td>89.4</td>\n",
       "      <td>86.3</td>\n",
       "      <td>89.6</td>\n",
       "      <td>87.2</td>\n",
       "      <td>40.9</td>\n",
       "      <td>39.6</td>\n",
       "      <td>51.5</td>\n",
       "      <td>50.4</td>\n",
       "    </tr>\n",
       "    <tr>\n",
       "      <th>293</th>\n",
       "      <td>294</td>\n",
       "      <td>39020</td>\n",
       "      <td>제주특별자치도</td>\n",
       "      <td>서귀포시 서귀포</td>\n",
       "      <td>제주서귀포시서귀포</td>\n",
       "      <td>248</td>\n",
       "      <td>NaN</td>\n",
       "      <td>NaN</td>\n",
       "      <td>NaN</td>\n",
       "      <td>NaN</td>\n",
       "      <td>...</td>\n",
       "      <td>93.5</td>\n",
       "      <td>93.4</td>\n",
       "      <td>86.0</td>\n",
       "      <td>84.3</td>\n",
       "      <td>86.0</td>\n",
       "      <td>85.2</td>\n",
       "      <td>35.6</td>\n",
       "      <td>34.4</td>\n",
       "      <td>45.5</td>\n",
       "      <td>42.7</td>\n",
       "    </tr>\n",
       "    <tr>\n",
       "      <th>294</th>\n",
       "      <td>295</td>\n",
       "      <td>39020</td>\n",
       "      <td>제주특별자치도</td>\n",
       "      <td>서귀포시 동부</td>\n",
       "      <td>제주서귀포시동부</td>\n",
       "      <td>249</td>\n",
       "      <td>NaN</td>\n",
       "      <td>NaN</td>\n",
       "      <td>NaN</td>\n",
       "      <td>NaN</td>\n",
       "      <td>...</td>\n",
       "      <td>95.3</td>\n",
       "      <td>94.3</td>\n",
       "      <td>89.4</td>\n",
       "      <td>85.9</td>\n",
       "      <td>89.4</td>\n",
       "      <td>86.8</td>\n",
       "      <td>40.7</td>\n",
       "      <td>37.8</td>\n",
       "      <td>55.7</td>\n",
       "      <td>56.2</td>\n",
       "    </tr>\n",
       "    <tr>\n",
       "      <th>295</th>\n",
       "      <td>296</td>\n",
       "      <td>39020</td>\n",
       "      <td>제주특별자치도</td>\n",
       "      <td>서귀포시 서부</td>\n",
       "      <td>제주서귀포시서부</td>\n",
       "      <td>250</td>\n",
       "      <td>NaN</td>\n",
       "      <td>NaN</td>\n",
       "      <td>NaN</td>\n",
       "      <td>NaN</td>\n",
       "      <td>...</td>\n",
       "      <td>95.9</td>\n",
       "      <td>94.1</td>\n",
       "      <td>98.3</td>\n",
       "      <td>92.5</td>\n",
       "      <td>100.0</td>\n",
       "      <td>93.5</td>\n",
       "      <td>57.0</td>\n",
       "      <td>55.9</td>\n",
       "      <td>60.9</td>\n",
       "      <td>58.0</td>\n",
       "    </tr>\n",
       "  </tbody>\n",
       "</table>\n",
       "<p>296 rows × 634 columns</p>\n",
       "</div>"
      ],
      "text/plain": [
       "      번호     코드       시도       시군구                    지역 CHS_No  총사망_사망자수_전체  \\\n",
       "0      1      0       전국        전국                    전국            295110.0   \n",
       "1      2     11    서울특별시     서울특별시                 서울특별시    A        43829.0   \n",
       "2      3     21    부산광역시     부산광역시                 부산광역시    B        22260.0   \n",
       "3      4     22    대구광역시     대구광역시                 대구광역시    C        13752.0   \n",
       "4      5     23    인천광역시     인천광역시                 인천광역시    D        15131.0   \n",
       "..   ...    ...      ...       ...                   ...    ...          ...   \n",
       "291  292  39010  제주특별자치도    제주시 서부  제주제주시서부                 253          NaN   \n",
       "292  293  39020  제주특별자치도      서귀포시                제주서귀포시    913       1287.0   \n",
       "293  294  39020  제주특별자치도  서귀포시 서귀포    제주서귀포시서귀포             248          NaN   \n",
       "294  295  39020  제주특별자치도   서귀포시 동부   제주서귀포시동부               249          NaN   \n",
       "295  296  39020  제주특별자치도   서귀포시 서부   제주서귀포시서부               250          NaN   \n",
       "\n",
       "     총사망률_전체  총사망률_표준화사망률_전체  총사망_사망자수_남자  ...  고혈압 진단경험자의 치료율_30세 이상_조율  \\\n",
       "0      574.8           305.4     160322.0  ...                       NaN   \n",
       "1      457.6           263.6      24859.0  ...                      90.5   \n",
       "2      656.6           331.9      12198.0  ...                      92.7   \n",
       "3      565.7           311.4       7509.0  ...                      93.0   \n",
       "4      516.9           319.1       8322.0  ...                      91.7   \n",
       "..       ...             ...          ...  ...                       ...   \n",
       "291      NaN             NaN          NaN  ...                      94.7   \n",
       "292    715.2           324.9        675.0  ...                      94.5   \n",
       "293      NaN             NaN          NaN  ...                      93.5   \n",
       "294      NaN             NaN          NaN  ...                      95.3   \n",
       "295      NaN             NaN          NaN  ...                      95.9   \n",
       "\n",
       "     고혈압 진단경험자의 치료율_30세 이상_표준화율  당뇨병 진단경험자의 치료율_조율  당뇨병 진단경험자의 치료율_표준화율  \\\n",
       "0                           NaN                NaN                  NaN   \n",
       "1                          90.0               91.6                 90.5   \n",
       "2                          91.1               94.0                 93.6   \n",
       "3                          92.0               93.8                 92.2   \n",
       "4                          90.8               92.5                 92.6   \n",
       "..                          ...                ...                  ...   \n",
       "291                        93.0               95.0                 90.9   \n",
       "292                        93.8               89.4                 86.3   \n",
       "293                        93.4               86.0                 84.3   \n",
       "294                        94.3               89.4                 85.9   \n",
       "295                        94.1               98.3                 92.5   \n",
       "\n",
       "     당뇨병 진단경험자의 치료율_30세 이상_조율  당뇨병 진단경험자의 치료율_30세 이상_표준화율  \\\n",
       "0                         NaN                         NaN   \n",
       "1                        91.9                        90.9   \n",
       "2                        94.0                        93.6   \n",
       "3                        93.8                        92.8   \n",
       "4                        92.9                        92.8   \n",
       "..                        ...                         ...   \n",
       "291                      95.0                        91.9   \n",
       "292                      89.6                        87.2   \n",
       "293                      86.0                        85.2   \n",
       "294                      89.4                        86.8   \n",
       "295                     100.0                        93.5   \n",
       "\n",
       "     연간 당뇨성 안질환 합병증 검사수진율_30세 이상_조율  연간 당뇨성 안질환 합병증 검사수진율_30세 이상_표준화율  \\\n",
       "0                               NaN                               NaN   \n",
       "1                              53.3                              53.2   \n",
       "2                              49.3                              49.7   \n",
       "3                              44.6                              44.1   \n",
       "4                              48.2                              47.9   \n",
       "..                              ...                               ...   \n",
       "291                            45.2                              39.7   \n",
       "292                            40.9                              39.6   \n",
       "293                            35.6                              34.4   \n",
       "294                            40.7                              37.8   \n",
       "295                            57.0                              55.9   \n",
       "\n",
       "     연간 당뇨성 신장질환 합병증 검사수진율_30세 이상_조율  연간 당뇨성 신장질환 합병증 검사수진율_30세 이상_표준화율  \n",
       "0                                NaN                                NaN  \n",
       "1                               62.8                               62.5  \n",
       "2                               54.0                               55.3  \n",
       "3                               53.0                               54.4  \n",
       "4                               57.4                               56.6  \n",
       "..                               ...                                ...  \n",
       "291                             63.7                               64.6  \n",
       "292                             51.5                               50.4  \n",
       "293                             45.5                               42.7  \n",
       "294                             55.7                               56.2  \n",
       "295                             60.9                               58.0  \n",
       "\n",
       "[296 rows x 634 columns]"
      ]
     },
     "execution_count": 8,
     "metadata": {},
     "output_type": "execute_result"
    }
   ],
   "source": [
    "h_19 = pd.read_excel('../data/rawdata/health/health_2008_2018.xlsx', sheet_name=15)\n"
   ]
  },
  {
   "cell_type": "code",
   "execution_count": 9,
   "metadata": {
    "ExecuteTime": {
     "end_time": "2021-07-25T21:49:15.279678Z",
     "start_time": "2021-07-25T21:49:15.257737Z"
    }
   },
   "outputs": [
    {
     "data": {
      "text/plain": [
       "(296, 634)"
      ]
     },
     "execution_count": 9,
     "metadata": {},
     "output_type": "execute_result"
    }
   ],
   "source": [
    "h_19.shape"
   ]
  },
  {
   "cell_type": "markdown",
   "metadata": {},
   "source": [
    "### Save Each Year Dataframe"
   ]
  },
  {
   "cell_type": "code",
   "execution_count": 193,
   "metadata": {
    "ExecuteTime": {
     "end_time": "2021-07-20T23:50:25.565061Z",
     "start_time": "2021-07-20T23:50:22.769540Z"
    }
   },
   "outputs": [],
   "source": [
    "year = 2008   # file name suffix\n",
    "\n",
    "for df in [h_08, h_09, h_10, h_11, h_12, h_13, h_14, h_15, h_16, h_17, h_18, h_19]:\n",
    "    df1 = df.drop(index=0)    # 매년 첫 줄(전국) 삭제\n",
    "    df1['연도'] = year\n",
    "    df1.to_excel('../data/refined/health/health_{}.xlsx'.format(year))\n",
    "    year += 1"
   ]
  }
 ],
 "metadata": {
  "kernelspec": {
   "display_name": "Python 3",
   "language": "python",
   "name": "python3"
  },
  "language_info": {
   "codemirror_mode": {
    "name": "ipython",
    "version": 3
   },
   "file_extension": ".py",
   "mimetype": "text/x-python",
   "name": "python",
   "nbconvert_exporter": "python",
   "pygments_lexer": "ipython3",
   "version": "3.7.6"
  },
  "toc": {
   "base_numbering": 1,
   "nav_menu": {},
   "number_sections": true,
   "sideBar": true,
   "skip_h1_title": false,
   "title_cell": "Table of Contents",
   "title_sidebar": "Contents",
   "toc_cell": false,
   "toc_position": {},
   "toc_section_display": true,
   "toc_window_display": false
  }
 },
 "nbformat": 4,
 "nbformat_minor": 4
}
