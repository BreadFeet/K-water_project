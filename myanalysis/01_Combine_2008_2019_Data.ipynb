{
 "cells": [
  {
   "cell_type": "markdown",
   "metadata": {},
   "source": [
    "# 2008~2018 Data Combining Process"
   ]
  },
  {
   "cell_type": "code",
   "execution_count": 146,
   "metadata": {
    "ExecuteTime": {
     "end_time": "2021-07-20T14:02:27.851145Z",
     "start_time": "2021-07-20T14:02:27.837182Z"
    }
   },
   "outputs": [],
   "source": [
    "import pandas as pd\n",
    "import numpy as np"
   ]
  },
  {
   "cell_type": "markdown",
   "metadata": {},
   "source": [
    "## For Water Data"
   ]
  },
  {
   "cell_type": "code",
   "execution_count": 147,
   "metadata": {
    "ExecuteTime": {
     "end_time": "2021-07-20T14:08:36.279173Z",
     "start_time": "2021-07-20T14:02:27.854137Z"
    }
   },
   "outputs": [
    {
     "name": "stderr",
     "output_type": "stream",
     "text": [
      "C:\\Users\\sori-\\anaconda3\\lib\\site-packages\\openpyxl\\styles\\stylesheet.py:214: UserWarning: Workbook contains no default style, apply openpyxl's default\n",
      "  warn(\"Workbook contains no default style, apply openpyxl's default\")\n"
     ]
    }
   ],
   "source": [
    "w_08 = pd.read_excel('../data/rawdata/water/water_2008.xlsx', engine='openpyxl')\n",
    "w_09 = pd.read_excel('../data/rawdata/water/water_2009.xlsx', engine='openpyxl')\n",
    "w_10 = pd.read_excel('../data/rawdata/water/water_2010.xlsx', engine='openpyxl')\n",
    "w_11 = pd.read_excel('../data/rawdata/water/water_2011.xlsx', engine='openpyxl')\n",
    "w_12 = pd.read_excel('../data/rawdata/water/water_2012.xlsx', engine='openpyxl')\n",
    "w_13 = pd.read_excel('../data/rawdata/water/water_2013.xlsx', engine='openpyxl')\n",
    "w_14 = pd.read_excel('../data/rawdata/water/water_2014.xlsx', engine='openpyxl')\n",
    "w_15 = pd.read_excel('../data/rawdata/water/water_2015.xlsx', engine='openpyxl')\n",
    "w_16 = pd.read_excel('../data/rawdata/water/water_2016.xlsx', engine='openpyxl')\n",
    "w_17 = pd.read_excel('../data/rawdata/water/water_2017.xlsx', engine='openpyxl')\n",
    "w_18 = pd.read_excel('../data/rawdata/water/water_2018.xlsx', engine='openpyxl')\n",
    "w_19 = pd.read_excel('../data/rawdata/water/water_2019.xlsx', engine='openpyxl')"
   ]
  },
  {
   "cell_type": "code",
   "execution_count": 148,
   "metadata": {
    "ExecuteTime": {
     "end_time": "2021-07-20T14:08:36.379902Z",
     "start_time": "2021-07-20T14:08:36.292169Z"
    }
   },
   "outputs": [
    {
     "name": "stdout",
     "output_type": "stream",
     "text": [
      "납(기준:0.05/ 단위:(mg/L))\n",
      "비소(기준:0.05/ 단위:(mg/L))\n",
      "망간(기준:0.3/ 단위:(mg/L))\n"
     ]
    }
   ],
   "source": [
    "# 2008 & 2019년 컬럼명 비교\n",
    "for idx in w_08.columns:\n",
    "    if not(idx in w_19.columns):              # 납, 비소, 망간 False\n",
    "        print(idx)"
   ]
  },
  {
   "cell_type": "markdown",
   "metadata": {},
   "source": [
    "**<2019년 자료 컬럼명>**\n",
    "* 납(기준:0.01/ 단위:(mg/L))\n",
    "* 비소(기준:0.01/ 단위:(mg/L))\n",
    "* 망간(기준:0.05/ 단위:(mg/L))\n",
    "\n",
    "--> 같은 물질인데 기준만 다른 경우가 있을 수 있음을 확인"
   ]
  },
  {
   "cell_type": "code",
   "execution_count": 149,
   "metadata": {
    "ExecuteTime": {
     "end_time": "2021-07-20T14:08:36.822717Z",
     "start_time": "2021-07-20T14:08:36.391871Z"
    },
    "scrolled": true
   },
   "outputs": [
    {
     "data": {
      "text/plain": [
       "'19년에만 있는 컬럼:'"
      ]
     },
     "metadata": {},
     "output_type": "display_data"
    },
    {
     "data": {
      "text/plain": [
       "{'1,4-다이옥산(기준:0.05/ 단위:(mg/L))',\n",
       " 'Uranium(기준:30/ 단위:㎍/L)',\n",
       " '납(기준:0.01/ 단위:(mg/L))',\n",
       " '디브로모클로로메탄(기준:0.1/ 단위:(mg/L))',\n",
       " '망간(기준:0.05/ 단위:(mg/L))',\n",
       " '브로모디클로로메탄(기준:0.03/ 단위:(mg/L))',\n",
       " '브롬산염(기준:0.01/ 단위:(mg/L))',\n",
       " '비소(기준:0.01/ 단위:(mg/L))',\n",
       " '포름알데히드(기준:0.5/ 단위:(mg/L))'}"
      ]
     },
     "metadata": {},
     "output_type": "display_data"
    },
    {
     "data": {
      "text/plain": [
       "'08년에만 있는 컬럼:'"
      ]
     },
     "metadata": {},
     "output_type": "display_data"
    },
    {
     "data": {
      "text/plain": [
       "{'납(기준:0.05/ 단위:(mg/L))', '망간(기준:0.3/ 단위:(mg/L))', '비소(기준:0.05/ 단위:(mg/L))'}"
      ]
     },
     "metadata": {},
     "output_type": "display_data"
    }
   ],
   "source": [
    "display('19년에만 있는 컬럼:', set(w_19.columns) - set(w_08.columns))\n",
    "display('08년에만 있는 컬럼:', set(w_08.columns) - set(w_19.columns))"
   ]
  },
  {
   "cell_type": "code",
   "execution_count": 150,
   "metadata": {
    "ExecuteTime": {
     "end_time": "2021-07-20T14:08:37.135879Z",
     "start_time": "2021-07-20T14:08:36.832690Z"
    }
   },
   "outputs": [],
   "source": [
    "w_08.rename({'납(기준:0.05/ 단위:(mg/L))':'납(기준:0.01/ 단위:(mg/L))', '망간(기준:0.3/ 단위:(mg/L))':'망간(기준:0.05/ 단위:(mg/L))', \n",
    "             '비소(기준:0.05/ 단위:(mg/L))':'비소(기준:0.01/ 단위:(mg/L))'}, axis=1, inplace=True)"
   ]
  },
  {
   "cell_type": "markdown",
   "metadata": {
    "ExecuteTime": {
     "end_time": "2021-07-20T07:47:17.043500Z",
     "start_time": "2021-07-20T07:47:17.019564Z"
    }
   },
   "source": [
    "> 양쪽에 공통으로 있는 물질인데 기준이 다른 경우: 2019년 기준으로 통일 <br> \n",
    "> 공통적이지 않은 항목: drop <br>\n",
    "> --> 컬럼을 바로 drop할 수는 없고, 많은 연도에 걸쳐서 없는 컬럼을 확인한 뒤 drop"
   ]
  },
  {
   "cell_type": "markdown",
   "metadata": {},
   "source": [
    "### 2009년\n",
    "1,4-다이옥산 컬럼이 나타나기 시작하였으나 값은 모두 NaN --> 컬럼 drop"
   ]
  },
  {
   "cell_type": "code",
   "execution_count": 151,
   "metadata": {
    "ExecuteTime": {
     "end_time": "2021-07-20T14:08:37.482952Z",
     "start_time": "2021-07-20T14:08:37.143860Z"
    }
   },
   "outputs": [
    {
     "data": {
      "text/plain": [
       "'19년에만 있는 컬럼:'"
      ]
     },
     "metadata": {},
     "output_type": "display_data"
    },
    {
     "data": {
      "text/plain": [
       "{'Uranium(기준:30/ 단위:㎍/L)',\n",
       " '납(기준:0.01/ 단위:(mg/L))',\n",
       " '망간(기준:0.05/ 단위:(mg/L))',\n",
       " '브롬산염(기준:0.01/ 단위:(mg/L))',\n",
       " '비소(기준:0.01/ 단위:(mg/L))',\n",
       " '포름알데히드(기준:0.5/ 단위:(mg/L))'}"
      ]
     },
     "metadata": {},
     "output_type": "display_data"
    },
    {
     "data": {
      "text/plain": [
       "'09년에만 있는 컬럼:'"
      ]
     },
     "metadata": {},
     "output_type": "display_data"
    },
    {
     "data": {
      "text/plain": [
       "{'납(기준:0.05/ 단위:(mg/L))', '망간(기준:0.3/ 단위:(mg/L))', '비소(기준:0.05/ 단위:(mg/L))'}"
      ]
     },
     "metadata": {},
     "output_type": "display_data"
    }
   ],
   "source": [
    "display('19년에만 있는 컬럼:', set(w_19.columns) - set(w_09.columns))\n",
    "display('09년에만 있는 컬럼:', set(w_09.columns) - set(w_19.columns))"
   ]
  },
  {
   "cell_type": "code",
   "execution_count": 152,
   "metadata": {
    "ExecuteTime": {
     "end_time": "2021-07-20T14:08:37.639536Z",
     "start_time": "2021-07-20T14:08:37.489934Z"
    }
   },
   "outputs": [],
   "source": [
    "w_09.rename({'납(기준:0.05/ 단위:(mg/L))':'납(기준:0.01/ 단위:(mg/L))', '망간(기준:0.3/ 단위:(mg/L))':'망간(기준:0.05/ 단위:(mg/L))', \n",
    "             '비소(기준:0.05/ 단위:(mg/L))':'비소(기준:0.01/ 단위:(mg/L))'}, axis=1, inplace=True)"
   ]
  },
  {
   "cell_type": "code",
   "execution_count": 173,
   "metadata": {
    "ExecuteTime": {
     "end_time": "2021-07-20T17:30:00.213133Z",
     "start_time": "2021-07-20T17:30:00.004687Z"
    }
   },
   "outputs": [],
   "source": [
    "w_09.drop('1,4-다이옥산(기준:0.05/ 단위:(mg/L))', axis=1, inplace=True)"
   ]
  },
  {
   "cell_type": "markdown",
   "metadata": {},
   "source": [
    "### 2010년"
   ]
  },
  {
   "cell_type": "code",
   "execution_count": 153,
   "metadata": {
    "ExecuteTime": {
     "end_time": "2021-07-20T14:08:38.003561Z",
     "start_time": "2021-07-20T14:08:37.649507Z"
    }
   },
   "outputs": [
    {
     "data": {
      "text/plain": [
       "'19년에만 있는 컬럼:'"
      ]
     },
     "metadata": {},
     "output_type": "display_data"
    },
    {
     "data": {
      "text/plain": [
       "{'Uranium(기준:30/ 단위:㎍/L)',\n",
       " '납(기준:0.01/ 단위:(mg/L))',\n",
       " '망간(기준:0.05/ 단위:(mg/L))',\n",
       " '브롬산염(기준:0.01/ 단위:(mg/L))',\n",
       " '비소(기준:0.01/ 단위:(mg/L))',\n",
       " '포름알데히드(기준:0.5/ 단위:(mg/L))'}"
      ]
     },
     "metadata": {},
     "output_type": "display_data"
    },
    {
     "data": {
      "text/plain": [
       "'10년에만 있는 컬럼:'"
      ]
     },
     "metadata": {},
     "output_type": "display_data"
    },
    {
     "data": {
      "text/plain": [
       "{'납(기준:0.05/ 단위:(mg/L))', '망간(기준:0.3/ 단위:(mg/L))', '비소(기준:0.05/ 단위:(mg/L))'}"
      ]
     },
     "metadata": {},
     "output_type": "display_data"
    }
   ],
   "source": [
    "display('19년에만 있는 컬럼:', set(w_19.columns) - set(w_10.columns))\n",
    "display('10년에만 있는 컬럼:', set(w_10.columns) - set(w_19.columns))"
   ]
  },
  {
   "cell_type": "code",
   "execution_count": 154,
   "metadata": {
    "ExecuteTime": {
     "end_time": "2021-07-20T14:08:38.034476Z",
     "start_time": "2021-07-20T14:08:38.013533Z"
    }
   },
   "outputs": [],
   "source": [
    "w_10.rename({'납(기준:0.05/ 단위:(mg/L))':'납(기준:0.01/ 단위:(mg/L))', '망간(기준:0.3/ 단위:(mg/L))':'망간(기준:0.05/ 단위:(mg/L))', \n",
    "             '비소(기준:0.05/ 단위:(mg/L))':'비소(기준:0.01/ 단위:(mg/L))'}, axis=1, inplace=True)"
   ]
  },
  {
   "cell_type": "markdown",
   "metadata": {},
   "source": [
    "### 2011년"
   ]
  },
  {
   "cell_type": "code",
   "execution_count": 155,
   "metadata": {
    "ExecuteTime": {
     "end_time": "2021-07-20T14:08:38.220979Z",
     "start_time": "2021-07-20T14:08:38.042455Z"
    }
   },
   "outputs": [
    {
     "data": {
      "text/plain": [
       "'19년에만 있는 컬럼:'"
      ]
     },
     "metadata": {},
     "output_type": "display_data"
    },
    {
     "data": {
      "text/plain": [
       "{'Uranium(기준:30/ 단위:㎍/L)',\n",
       " '브롬산염(기준:0.01/ 단위:(mg/L))',\n",
       " '포름알데히드(기준:0.5/ 단위:(mg/L))'}"
      ]
     },
     "metadata": {},
     "output_type": "display_data"
    },
    {
     "data": {
      "text/plain": [
       "'11년에만 있는 컬럼:'"
      ]
     },
     "metadata": {},
     "output_type": "display_data"
    },
    {
     "data": {
      "text/plain": [
       "set()"
      ]
     },
     "metadata": {},
     "output_type": "display_data"
    }
   ],
   "source": [
    "display('19년에만 있는 컬럼:', set(w_19.columns) - set(w_11.columns))\n",
    "display('11년에만 있는 컬럼:', set(w_11.columns) - set(w_19.columns))"
   ]
  },
  {
   "cell_type": "markdown",
   "metadata": {},
   "source": [
    "### 2012년"
   ]
  },
  {
   "cell_type": "code",
   "execution_count": 156,
   "metadata": {
    "ExecuteTime": {
     "end_time": "2021-07-20T14:08:38.442386Z",
     "start_time": "2021-07-20T14:08:38.226962Z"
    }
   },
   "outputs": [
    {
     "data": {
      "text/plain": [
       "'19년에만 있는 컬럼:'"
      ]
     },
     "metadata": {},
     "output_type": "display_data"
    },
    {
     "data": {
      "text/plain": [
       "{'Uranium(기준:30/ 단위:㎍/L)',\n",
       " '브롬산염(기준:0.01/ 단위:(mg/L))',\n",
       " '포름알데히드(기준:0.5/ 단위:(mg/L))'}"
      ]
     },
     "metadata": {},
     "output_type": "display_data"
    },
    {
     "data": {
      "text/plain": [
       "'12년에만 있는 컬럼:'"
      ]
     },
     "metadata": {},
     "output_type": "display_data"
    },
    {
     "data": {
      "text/plain": [
       "set()"
      ]
     },
     "metadata": {},
     "output_type": "display_data"
    }
   ],
   "source": [
    "display('19년에만 있는 컬럼:', set(w_19.columns) - set(w_12.columns))\n",
    "display('12년에만 있는 컬럼:', set(w_12.columns) - set(w_19.columns))"
   ]
  },
  {
   "cell_type": "markdown",
   "metadata": {},
   "source": [
    "### 2013년"
   ]
  },
  {
   "cell_type": "code",
   "execution_count": 157,
   "metadata": {
    "ExecuteTime": {
     "end_time": "2021-07-20T14:08:38.584007Z",
     "start_time": "2021-07-20T14:08:38.446376Z"
    }
   },
   "outputs": [
    {
     "data": {
      "text/plain": [
       "'19년에만 있는 컬럼:'"
      ]
     },
     "metadata": {},
     "output_type": "display_data"
    },
    {
     "data": {
      "text/plain": [
       "{'Uranium(기준:30/ 단위:㎍/L)',\n",
       " '브롬산염(기준:0.01/ 단위:(mg/L))',\n",
       " '포름알데히드(기준:0.5/ 단위:(mg/L))'}"
      ]
     },
     "metadata": {},
     "output_type": "display_data"
    },
    {
     "data": {
      "text/plain": [
       "'13년에만 있는 컬럼:'"
      ]
     },
     "metadata": {},
     "output_type": "display_data"
    },
    {
     "data": {
      "text/plain": [
       "set()"
      ]
     },
     "metadata": {},
     "output_type": "display_data"
    }
   ],
   "source": [
    "display('19년에만 있는 컬럼:', set(w_19.columns) - set(w_13.columns))\n",
    "display('13년에만 있는 컬럼:', set(w_13.columns) - set(w_19.columns))"
   ]
  },
  {
   "cell_type": "markdown",
   "metadata": {},
   "source": [
    "### 2014년"
   ]
  },
  {
   "cell_type": "code",
   "execution_count": 158,
   "metadata": {
    "ExecuteTime": {
     "end_time": "2021-07-20T14:08:38.663793Z",
     "start_time": "2021-07-20T14:08:38.588992Z"
    }
   },
   "outputs": [
    {
     "data": {
      "text/plain": [
       "'19년에만 있는 컬럼:'"
      ]
     },
     "metadata": {},
     "output_type": "display_data"
    },
    {
     "data": {
      "text/plain": [
       "{'Uranium(기준:30/ 단위:㎍/L)', '브롬산염(기준:0.01/ 단위:(mg/L))'}"
      ]
     },
     "metadata": {},
     "output_type": "display_data"
    },
    {
     "data": {
      "text/plain": [
       "'14년에만 있는 컬럼:'"
      ]
     },
     "metadata": {},
     "output_type": "display_data"
    },
    {
     "data": {
      "text/plain": [
       "set()"
      ]
     },
     "metadata": {},
     "output_type": "display_data"
    }
   ],
   "source": [
    "display('19년에만 있는 컬럼:', set(w_19.columns) - set(w_14.columns))\n",
    "display('14년에만 있는 컬럼:', set(w_14.columns) - set(w_19.columns))"
   ]
  },
  {
   "cell_type": "markdown",
   "metadata": {},
   "source": [
    "### 2015년"
   ]
  },
  {
   "cell_type": "code",
   "execution_count": 159,
   "metadata": {
    "ExecuteTime": {
     "end_time": "2021-07-20T14:08:38.791450Z",
     "start_time": "2021-07-20T14:08:38.668780Z"
    }
   },
   "outputs": [
    {
     "data": {
      "text/plain": [
       "'19년에만 있는 컬럼:'"
      ]
     },
     "metadata": {},
     "output_type": "display_data"
    },
    {
     "data": {
      "text/plain": [
       "{'Uranium(기준:30/ 단위:㎍/L)', '브롬산염(기준:0.01/ 단위:(mg/L))'}"
      ]
     },
     "metadata": {},
     "output_type": "display_data"
    },
    {
     "data": {
      "text/plain": [
       "'15년에만 있는 컬럼:'"
      ]
     },
     "metadata": {},
     "output_type": "display_data"
    },
    {
     "data": {
      "text/plain": [
       "set()"
      ]
     },
     "metadata": {},
     "output_type": "display_data"
    }
   ],
   "source": [
    "display('19년에만 있는 컬럼:', set(w_19.columns) - set(w_15.columns))\n",
    "display('15년에만 있는 컬럼:', set(w_15.columns) - set(w_19.columns))"
   ]
  },
  {
   "cell_type": "markdown",
   "metadata": {},
   "source": [
    "### 2016년"
   ]
  },
  {
   "cell_type": "code",
   "execution_count": 160,
   "metadata": {
    "ExecuteTime": {
     "end_time": "2021-07-20T14:08:38.839325Z",
     "start_time": "2021-07-20T14:08:38.798433Z"
    }
   },
   "outputs": [
    {
     "data": {
      "text/plain": [
       "'19년에만 있는 컬럼:'"
      ]
     },
     "metadata": {},
     "output_type": "display_data"
    },
    {
     "data": {
      "text/plain": [
       "{'Uranium(기준:30/ 단위:㎍/L)', '브롬산염(기준:0.01/ 단위:(mg/L))'}"
      ]
     },
     "metadata": {},
     "output_type": "display_data"
    },
    {
     "data": {
      "text/plain": [
       "'16년에만 있는 컬럼:'"
      ]
     },
     "metadata": {},
     "output_type": "display_data"
    },
    {
     "data": {
      "text/plain": [
       "set()"
      ]
     },
     "metadata": {},
     "output_type": "display_data"
    }
   ],
   "source": [
    "display('19년에만 있는 컬럼:', set(w_19.columns) - set(w_16.columns))\n",
    "display('16년에만 있는 컬럼:', set(w_16.columns) - set(w_19.columns))"
   ]
  },
  {
   "cell_type": "markdown",
   "metadata": {},
   "source": [
    "### 2017년"
   ]
  },
  {
   "cell_type": "code",
   "execution_count": 161,
   "metadata": {
    "ExecuteTime": {
     "end_time": "2021-07-20T14:08:38.996902Z",
     "start_time": "2021-07-20T14:08:38.843312Z"
    }
   },
   "outputs": [
    {
     "data": {
      "text/plain": [
       "'19년에만 있는 컬럼:'"
      ]
     },
     "metadata": {},
     "output_type": "display_data"
    },
    {
     "data": {
      "text/plain": [
       "{'Uranium(기준:30/ 단위:㎍/L)'}"
      ]
     },
     "metadata": {},
     "output_type": "display_data"
    },
    {
     "data": {
      "text/plain": [
       "'17년에만 있는 컬럼:'"
      ]
     },
     "metadata": {},
     "output_type": "display_data"
    },
    {
     "data": {
      "text/plain": [
       "set()"
      ]
     },
     "metadata": {},
     "output_type": "display_data"
    }
   ],
   "source": [
    "display('19년에만 있는 컬럼:', set(w_19.columns) - set(w_17.columns))\n",
    "display('17년에만 있는 컬럼:', set(w_17.columns) - set(w_19.columns))"
   ]
  },
  {
   "cell_type": "code",
   "execution_count": 175,
   "metadata": {
    "ExecuteTime": {
     "end_time": "2021-07-20T17:53:04.769409Z",
     "start_time": "2021-07-20T17:53:04.743478Z"
    }
   },
   "outputs": [],
   "source": [
    "w_17.drop('브롬산염(기준:0.01/ 단위:(mg/L))', axis=1, inplace=True)"
   ]
  },
  {
   "cell_type": "markdown",
   "metadata": {},
   "source": [
    "### 2018년"
   ]
  },
  {
   "cell_type": "code",
   "execution_count": 162,
   "metadata": {
    "ExecuteTime": {
     "end_time": "2021-07-20T14:08:39.282139Z",
     "start_time": "2021-07-20T14:08:39.009867Z"
    }
   },
   "outputs": [
    {
     "data": {
      "text/plain": [
       "'19년에만 있는 컬럼:'"
      ]
     },
     "metadata": {},
     "output_type": "display_data"
    },
    {
     "data": {
      "text/plain": [
       "{'Uranium(기준:30/ 단위:㎍/L)'}"
      ]
     },
     "metadata": {},
     "output_type": "display_data"
    },
    {
     "data": {
      "text/plain": [
       "'09년에만 있는 컬럼:'"
      ]
     },
     "metadata": {},
     "output_type": "display_data"
    },
    {
     "data": {
      "text/plain": [
       "set()"
      ]
     },
     "metadata": {},
     "output_type": "display_data"
    }
   ],
   "source": [
    "display('19년에만 있는 컬럼:', set(w_19.columns) - set(w_18.columns))\n",
    "display('09년에만 있는 컬럼:', set(w_18.columns) - set(w_19.columns))"
   ]
  },
  {
   "cell_type": "code",
   "execution_count": 176,
   "metadata": {
    "ExecuteTime": {
     "end_time": "2021-07-20T17:53:34.748392Z",
     "start_time": "2021-07-20T17:53:34.732436Z"
    }
   },
   "outputs": [],
   "source": [
    "w_18.drop('브롬산염(기준:0.01/ 단위:(mg/L))', axis=1, inplace=True)"
   ]
  },
  {
   "cell_type": "markdown",
   "metadata": {},
   "source": [
    "### 2019년"
   ]
  },
  {
   "cell_type": "code",
   "execution_count": 163,
   "metadata": {
    "ExecuteTime": {
     "end_time": "2021-07-20T14:08:39.328016Z",
     "start_time": "2021-07-20T14:08:39.288122Z"
    }
   },
   "outputs": [],
   "source": [
    "w_19.drop(['Uranium(기준:30/ 단위:㎍/L)', '브롬산염(기준:0.01/ 단위:(mg/L))'], axis=1, inplace=True)"
   ]
  },
  {
   "cell_type": "markdown",
   "metadata": {},
   "source": [
    "* **'1,4-다이옥산(기준:0.05/ 단위:(mg/L))', '디브로모클로로메탄(기준:0.1/ 단위:(mg/L))', '디브로모클로로메탄(기준:0.1/ 단위:(mg/L))': 2008년만 없음 --> 포함**\n",
    "* **'포름알데히드(기준:0.5/ 단위:(mg/L))': 2014년부터 등장 -->  전체 기간 중 1/2 기간에 등장 --> 포함**\n",
    "* '브롬산염(기준:0.01/ 단위:(mg/L))': 2017년부터 등장 --> 제외\n",
    "* 'Uranium(기준:30/ 단위:㎍/L)': 2019년만 등장 --> 제외"
   ]
  },
  {
   "cell_type": "markdown",
   "metadata": {},
   "source": [
    "### Unnecessary Column Drop & Save Each Year Dataframe\n",
    "Choose_Preprocessing_Method 파일에서 총 12개년 전체에 대해 drop 가능한 컬럼을 분석한 결과를 사용"
   ]
  },
  {
   "cell_type": "code",
   "execution_count": 178,
   "metadata": {
    "ExecuteTime": {
     "end_time": "2021-07-20T17:59:27.838526Z",
     "start_time": "2021-07-20T17:56:59.552876Z"
    }
   },
   "outputs": [],
   "source": [
    "year = 2008   # file name suffix\n",
    "\n",
    "for df in [w_08, w_09, w_10, w_11, w_12, w_13, w_14, w_15, w_16, w_17, w_18, w_19]:\n",
    "    df1 = df.drop(['시설명', '소재지', '수원', '채수년월일', '총대장균군(기준:0/ 단위:MPN)', '대장균/분원성대장균군(기준:0/ 단위:MPN)',\n",
    "             '냄새(기준:0/ 단위:(mg/L))', '맛(기준:0/ 단위:(mg/L))', '탁도(기준:0.5/ 단위:(NTU))'], axis=1)\n",
    "    df1.dropna(subset=['수도사업자'], axis=0, inplace=True)        # 수도사업자 값이 없으면 drop\n",
    "    df1.rename({'수도사업자':'지역'}, axis=1, inplace=True)\n",
    "    \n",
    "    df1.to_excel('../data/refined/water/water_{}.xlsx'.format(year))\n",
    "    year += 1"
   ]
  },
  {
   "cell_type": "markdown",
   "metadata": {},
   "source": [
    "### Dataframe Concat & Save 2008~2019 Dataframe"
   ]
  },
  {
   "cell_type": "code",
   "execution_count": 98,
   "metadata": {
    "ExecuteTime": {
     "end_time": "2021-07-20T09:16:49.307616Z",
     "start_time": "2021-07-20T09:16:48.902038Z"
    },
    "collapsed": true
   },
   "outputs": [
    {
     "data": {
      "text/html": [
       "<div>\n",
       "<style scoped>\n",
       "    .dataframe tbody tr th:only-of-type {\n",
       "        vertical-align: middle;\n",
       "    }\n",
       "\n",
       "    .dataframe tbody tr th {\n",
       "        vertical-align: top;\n",
       "    }\n",
       "\n",
       "    .dataframe thead th {\n",
       "        text-align: right;\n",
       "    }\n",
       "</style>\n",
       "<table border=\"1\" class=\"dataframe\">\n",
       "  <thead>\n",
       "    <tr style=\"text-align: right;\">\n",
       "      <th></th>\n",
       "      <th>검사월</th>\n",
       "      <th>수도사업자</th>\n",
       "      <th>시설명</th>\n",
       "      <th>소재지</th>\n",
       "      <th>수원</th>\n",
       "      <th>시설용량(㎥/일)</th>\n",
       "      <th>채수년월일</th>\n",
       "      <th>일반세균(기준:100/ 단위:(CFU/mL))</th>\n",
       "      <th>총대장균군(기준:0/ 단위:MPN)</th>\n",
       "      <th>대장균/분원성대장균군(기준:0/ 단위:MPN)</th>\n",
       "      <th>...</th>\n",
       "      <th>클로랄하이드레이트(기준:0.03/ 단위:(mg/L))</th>\n",
       "      <th>디브로모아세토니트릴(기준:0.1/ 단위:(mg/L))</th>\n",
       "      <th>디클로로아세토니트릴(기준:0.09/ 단위:(mg/L))</th>\n",
       "      <th>트리클로로아세토니트릴(기준:0.004/ 단위:(mg/L))</th>\n",
       "      <th>할로아세틱에시드(기준:0.1/ 단위:(mg/L))</th>\n",
       "      <th>1,4-다이옥산(기준:0.05/ 단위:(mg/L))</th>\n",
       "      <th>브로모디클로로메탄(기준:0.03/ 단위:(mg/L))</th>\n",
       "      <th>디브로모클로로메탄(기준:0.1/ 단위:(mg/L))</th>\n",
       "      <th>포름알데히드(기준:0.5/ 단위:(mg/L))</th>\n",
       "      <th>브롬산염(기준:0.01/ 단위:(mg/L))</th>\n",
       "    </tr>\n",
       "  </thead>\n",
       "  <tbody>\n",
       "    <tr>\n",
       "      <th>0</th>\n",
       "      <td>2008-01</td>\n",
       "      <td>NaN</td>\n",
       "      <td>반월</td>\n",
       "      <td>경기도 안산시</td>\n",
       "      <td>NaN</td>\n",
       "      <td>NaN</td>\n",
       "      <td>2008-01-31</td>\n",
       "      <td>0</td>\n",
       "      <td>불검출</td>\n",
       "      <td>불검출</td>\n",
       "      <td>...</td>\n",
       "      <td>0.0058</td>\n",
       "      <td>0.0012</td>\n",
       "      <td>0.0031</td>\n",
       "      <td>0.0023</td>\n",
       "      <td>0.0120</td>\n",
       "      <td>NaN</td>\n",
       "      <td>NaN</td>\n",
       "      <td>NaN</td>\n",
       "      <td>NaN</td>\n",
       "      <td>NaN</td>\n",
       "    </tr>\n",
       "    <tr>\n",
       "      <th>1</th>\n",
       "      <td>2008-01</td>\n",
       "      <td>NaN</td>\n",
       "      <td>성남</td>\n",
       "      <td>경기도 성남시 수정구</td>\n",
       "      <td>NaN</td>\n",
       "      <td>NaN</td>\n",
       "      <td>2008-02-14</td>\n",
       "      <td>0</td>\n",
       "      <td>불검출</td>\n",
       "      <td>불검출</td>\n",
       "      <td>...</td>\n",
       "      <td>0.0052</td>\n",
       "      <td>0.0000</td>\n",
       "      <td>0.0025</td>\n",
       "      <td>0.0000</td>\n",
       "      <td>0.0074</td>\n",
       "      <td>NaN</td>\n",
       "      <td>NaN</td>\n",
       "      <td>NaN</td>\n",
       "      <td>NaN</td>\n",
       "      <td>NaN</td>\n",
       "    </tr>\n",
       "    <tr>\n",
       "      <th>2</th>\n",
       "      <td>2008-01</td>\n",
       "      <td>NaN</td>\n",
       "      <td>시흥</td>\n",
       "      <td>경기도 안산시</td>\n",
       "      <td>NaN</td>\n",
       "      <td>101000.0</td>\n",
       "      <td>2008-01-31</td>\n",
       "      <td>0</td>\n",
       "      <td>불검출</td>\n",
       "      <td>불검출</td>\n",
       "      <td>...</td>\n",
       "      <td>0.0062</td>\n",
       "      <td>0.0011</td>\n",
       "      <td>0.0032</td>\n",
       "      <td>0.0024</td>\n",
       "      <td>0.0163</td>\n",
       "      <td>NaN</td>\n",
       "      <td>NaN</td>\n",
       "      <td>NaN</td>\n",
       "      <td>NaN</td>\n",
       "      <td>NaN</td>\n",
       "    </tr>\n",
       "    <tr>\n",
       "      <th>3</th>\n",
       "      <td>2008-01</td>\n",
       "      <td>NaN</td>\n",
       "      <td>일산</td>\n",
       "      <td>경기도 고양시</td>\n",
       "      <td>NaN</td>\n",
       "      <td>0.0</td>\n",
       "      <td>2008-02-14</td>\n",
       "      <td>0</td>\n",
       "      <td>불검출</td>\n",
       "      <td>불검출</td>\n",
       "      <td>...</td>\n",
       "      <td>0.0091</td>\n",
       "      <td>0.0000</td>\n",
       "      <td>0.0035</td>\n",
       "      <td>0.0000</td>\n",
       "      <td>0.0074</td>\n",
       "      <td>NaN</td>\n",
       "      <td>NaN</td>\n",
       "      <td>NaN</td>\n",
       "      <td>NaN</td>\n",
       "      <td>NaN</td>\n",
       "    </tr>\n",
       "    <tr>\n",
       "      <th>4</th>\n",
       "      <td>2008-01</td>\n",
       "      <td>NaN</td>\n",
       "      <td>지평</td>\n",
       "      <td>경기도 양평군</td>\n",
       "      <td>NaN</td>\n",
       "      <td>NaN</td>\n",
       "      <td>2008-02-12</td>\n",
       "      <td>0</td>\n",
       "      <td>불검출</td>\n",
       "      <td>불검출</td>\n",
       "      <td>...</td>\n",
       "      <td>0.0027</td>\n",
       "      <td>0.0203</td>\n",
       "      <td>0.0011</td>\n",
       "      <td>0.0000</td>\n",
       "      <td>0.0082</td>\n",
       "      <td>NaN</td>\n",
       "      <td>NaN</td>\n",
       "      <td>NaN</td>\n",
       "      <td>NaN</td>\n",
       "      <td>NaN</td>\n",
       "    </tr>\n",
       "    <tr>\n",
       "      <th>...</th>\n",
       "      <td>...</td>\n",
       "      <td>...</td>\n",
       "      <td>...</td>\n",
       "      <td>...</td>\n",
       "      <td>...</td>\n",
       "      <td>...</td>\n",
       "      <td>...</td>\n",
       "      <td>...</td>\n",
       "      <td>...</td>\n",
       "      <td>...</td>\n",
       "      <td>...</td>\n",
       "      <td>...</td>\n",
       "      <td>...</td>\n",
       "      <td>...</td>\n",
       "      <td>...</td>\n",
       "      <td>...</td>\n",
       "      <td>...</td>\n",
       "      <td>...</td>\n",
       "      <td>...</td>\n",
       "      <td>...</td>\n",
       "      <td>...</td>\n",
       "    </tr>\n",
       "    <tr>\n",
       "      <th>68321</th>\n",
       "      <td>2019-12</td>\n",
       "      <td>수자원공사</td>\n",
       "      <td>평림</td>\n",
       "      <td>NaN</td>\n",
       "      <td>호소수</td>\n",
       "      <td>30000.0</td>\n",
       "      <td>2019-12-09</td>\n",
       "      <td>0</td>\n",
       "      <td>불검출</td>\n",
       "      <td>불검출</td>\n",
       "      <td>...</td>\n",
       "      <td>0.0016</td>\n",
       "      <td>0.0000</td>\n",
       "      <td>0.0016</td>\n",
       "      <td>0.0000</td>\n",
       "      <td>0.0100</td>\n",
       "      <td>0.000</td>\n",
       "      <td>0.004</td>\n",
       "      <td>0.0</td>\n",
       "      <td>0.0</td>\n",
       "      <td>NaN</td>\n",
       "    </tr>\n",
       "    <tr>\n",
       "      <th>68322</th>\n",
       "      <td>2019-12</td>\n",
       "      <td>수자원공사</td>\n",
       "      <td>학야</td>\n",
       "      <td>NaN</td>\n",
       "      <td>호소수</td>\n",
       "      <td>61900.0</td>\n",
       "      <td>2019-12-05</td>\n",
       "      <td>0</td>\n",
       "      <td>불검출</td>\n",
       "      <td>불검출</td>\n",
       "      <td>...</td>\n",
       "      <td>0.0049</td>\n",
       "      <td>0.0000</td>\n",
       "      <td>0.0015</td>\n",
       "      <td>0.0000</td>\n",
       "      <td>0.0410</td>\n",
       "      <td>0.002</td>\n",
       "      <td>0.006</td>\n",
       "      <td>0.0</td>\n",
       "      <td>0.0</td>\n",
       "      <td>NaN</td>\n",
       "    </tr>\n",
       "    <tr>\n",
       "      <th>68323</th>\n",
       "      <td>2019-12</td>\n",
       "      <td>수자원공사</td>\n",
       "      <td>화순</td>\n",
       "      <td>NaN</td>\n",
       "      <td>호소수</td>\n",
       "      <td>100000.0</td>\n",
       "      <td>2019-12-09</td>\n",
       "      <td>0</td>\n",
       "      <td>불검출</td>\n",
       "      <td>불검출</td>\n",
       "      <td>...</td>\n",
       "      <td>0.0030</td>\n",
       "      <td>0.0000</td>\n",
       "      <td>0.0017</td>\n",
       "      <td>0.0000</td>\n",
       "      <td>0.0180</td>\n",
       "      <td>0.000</td>\n",
       "      <td>0.004</td>\n",
       "      <td>0.0</td>\n",
       "      <td>0.0</td>\n",
       "      <td>NaN</td>\n",
       "    </tr>\n",
       "    <tr>\n",
       "      <th>68324</th>\n",
       "      <td>2019-12</td>\n",
       "      <td>수자원공사</td>\n",
       "      <td>황지</td>\n",
       "      <td>강원도 태백시 황지동</td>\n",
       "      <td>호소수</td>\n",
       "      <td>70000.0</td>\n",
       "      <td>2019-12-03</td>\n",
       "      <td>0</td>\n",
       "      <td>불검출</td>\n",
       "      <td>불검출</td>\n",
       "      <td>...</td>\n",
       "      <td>0.0020</td>\n",
       "      <td>0.0000</td>\n",
       "      <td>0.0010</td>\n",
       "      <td>0.0000</td>\n",
       "      <td>0.0160</td>\n",
       "      <td>0.000</td>\n",
       "      <td>0.000</td>\n",
       "      <td>0.0</td>\n",
       "      <td>0.0</td>\n",
       "      <td>NaN</td>\n",
       "    </tr>\n",
       "    <tr>\n",
       "      <th>68325</th>\n",
       "      <td>2019-12</td>\n",
       "      <td>수자원공사</td>\n",
       "      <td>화성</td>\n",
       "      <td>경기도 화성시 매송면 천천리</td>\n",
       "      <td>호소수</td>\n",
       "      <td>178000.0</td>\n",
       "      <td>2019-12-02</td>\n",
       "      <td>0</td>\n",
       "      <td>불검출</td>\n",
       "      <td>불검출</td>\n",
       "      <td>...</td>\n",
       "      <td>0.0000</td>\n",
       "      <td>0.0000</td>\n",
       "      <td>0.0000</td>\n",
       "      <td>0.0000</td>\n",
       "      <td>0.0090</td>\n",
       "      <td>0.000</td>\n",
       "      <td>0.000</td>\n",
       "      <td>0.0</td>\n",
       "      <td>0.0</td>\n",
       "      <td>NaN</td>\n",
       "    </tr>\n",
       "  </tbody>\n",
       "</table>\n",
       "<p>68326 rows × 66 columns</p>\n",
       "</div>"
      ],
      "text/plain": [
       "           검사월  수도사업자 시설명              소재지   수원  시설용량(㎥/일)       채수년월일  \\\n",
       "0      2008-01    NaN  반월          경기도 안산시  NaN        NaN  2008-01-31   \n",
       "1      2008-01    NaN  성남      경기도 성남시 수정구  NaN        NaN  2008-02-14   \n",
       "2      2008-01    NaN  시흥          경기도 안산시  NaN   101000.0  2008-01-31   \n",
       "3      2008-01    NaN  일산          경기도 고양시  NaN        0.0  2008-02-14   \n",
       "4      2008-01    NaN  지평          경기도 양평군  NaN        NaN  2008-02-12   \n",
       "...        ...    ...  ..              ...  ...        ...         ...   \n",
       "68321  2019-12  수자원공사  평림              NaN  호소수    30000.0  2019-12-09   \n",
       "68322  2019-12  수자원공사  학야              NaN  호소수    61900.0  2019-12-05   \n",
       "68323  2019-12  수자원공사  화순              NaN  호소수   100000.0  2019-12-09   \n",
       "68324  2019-12  수자원공사  황지      강원도 태백시 황지동  호소수    70000.0  2019-12-03   \n",
       "68325  2019-12  수자원공사  화성  경기도 화성시 매송면 천천리  호소수   178000.0  2019-12-02   \n",
       "\n",
       "       일반세균(기준:100/ 단위:(CFU/mL)) 총대장균군(기준:0/ 단위:MPN)  \\\n",
       "0                              0                 불검출   \n",
       "1                              0                 불검출   \n",
       "2                              0                 불검출   \n",
       "3                              0                 불검출   \n",
       "4                              0                 불검출   \n",
       "...                          ...                 ...   \n",
       "68321                          0                 불검출   \n",
       "68322                          0                 불검출   \n",
       "68323                          0                 불검출   \n",
       "68324                          0                 불검출   \n",
       "68325                          0                 불검출   \n",
       "\n",
       "      대장균/분원성대장균군(기준:0/ 단위:MPN)  ...  클로랄하이드레이트(기준:0.03/ 단위:(mg/L))  \\\n",
       "0                           불검출  ...                         0.0058   \n",
       "1                           불검출  ...                         0.0052   \n",
       "2                           불검출  ...                         0.0062   \n",
       "3                           불검출  ...                         0.0091   \n",
       "4                           불검출  ...                         0.0027   \n",
       "...                         ...  ...                            ...   \n",
       "68321                       불검출  ...                         0.0016   \n",
       "68322                       불검출  ...                         0.0049   \n",
       "68323                       불검출  ...                         0.0030   \n",
       "68324                       불검출  ...                         0.0020   \n",
       "68325                       불검출  ...                         0.0000   \n",
       "\n",
       "       디브로모아세토니트릴(기준:0.1/ 단위:(mg/L))  디클로로아세토니트릴(기준:0.09/ 단위:(mg/L))  \\\n",
       "0                             0.0012                          0.0031   \n",
       "1                             0.0000                          0.0025   \n",
       "2                             0.0011                          0.0032   \n",
       "3                             0.0000                          0.0035   \n",
       "4                             0.0203                          0.0011   \n",
       "...                              ...                             ...   \n",
       "68321                         0.0000                          0.0016   \n",
       "68322                         0.0000                          0.0015   \n",
       "68323                         0.0000                          0.0017   \n",
       "68324                         0.0000                          0.0010   \n",
       "68325                         0.0000                          0.0000   \n",
       "\n",
       "       트리클로로아세토니트릴(기준:0.004/ 단위:(mg/L))  할로아세틱에시드(기준:0.1/ 단위:(mg/L))  \\\n",
       "0                                0.0023                       0.0120   \n",
       "1                                0.0000                       0.0074   \n",
       "2                                0.0024                       0.0163   \n",
       "3                                0.0000                       0.0074   \n",
       "4                                0.0000                       0.0082   \n",
       "...                                 ...                          ...   \n",
       "68321                            0.0000                       0.0100   \n",
       "68322                            0.0000                       0.0410   \n",
       "68323                            0.0000                       0.0180   \n",
       "68324                            0.0000                       0.0160   \n",
       "68325                            0.0000                       0.0090   \n",
       "\n",
       "       1,4-다이옥산(기준:0.05/ 단위:(mg/L))  브로모디클로로메탄(기준:0.03/ 단위:(mg/L))  \\\n",
       "0                               NaN                            NaN   \n",
       "1                               NaN                            NaN   \n",
       "2                               NaN                            NaN   \n",
       "3                               NaN                            NaN   \n",
       "4                               NaN                            NaN   \n",
       "...                             ...                            ...   \n",
       "68321                         0.000                          0.004   \n",
       "68322                         0.002                          0.006   \n",
       "68323                         0.000                          0.004   \n",
       "68324                         0.000                          0.000   \n",
       "68325                         0.000                          0.000   \n",
       "\n",
       "       디브로모클로로메탄(기준:0.1/ 단위:(mg/L))  포름알데히드(기준:0.5/ 단위:(mg/L))  \\\n",
       "0                               NaN                        NaN   \n",
       "1                               NaN                        NaN   \n",
       "2                               NaN                        NaN   \n",
       "3                               NaN                        NaN   \n",
       "4                               NaN                        NaN   \n",
       "...                             ...                        ...   \n",
       "68321                           0.0                        0.0   \n",
       "68322                           0.0                        0.0   \n",
       "68323                           0.0                        0.0   \n",
       "68324                           0.0                        0.0   \n",
       "68325                           0.0                        0.0   \n",
       "\n",
       "       브롬산염(기준:0.01/ 단위:(mg/L))  \n",
       "0                           NaN  \n",
       "1                           NaN  \n",
       "2                           NaN  \n",
       "3                           NaN  \n",
       "4                           NaN  \n",
       "...                         ...  \n",
       "68321                       NaN  \n",
       "68322                       NaN  \n",
       "68323                       NaN  \n",
       "68324                       NaN  \n",
       "68325                       NaN  \n",
       "\n",
       "[68326 rows x 66 columns]"
      ]
     },
     "execution_count": 98,
     "metadata": {},
     "output_type": "execute_result"
    }
   ],
   "source": [
    "# w = pd.concat([w_08, w_09, w_10, w_11, w_12, w_13, w_14, w_15, w_16, w_17, w_18, w_19], axis=0, ignore_index=True, join='outer')\n",
    "# w1 = w.drop(['시설명', '소재지', '수원', '채수년월일', '총대장균군(기준:0/ 단위:MPN)', '대장균/분원성대장균군(기준:0/ 단위:MPN)',\n",
    "#              '냄새(기준:0/ 단위:(mg/L))', '맛(기준:0/ 단위:(mg/L))', '탁도(기준:0.5/ 단위:(NTU))'], axis=1)\n",
    "# w1.dropna(subset=['수도사업자'], axis=0, inplace=True)        # 수도사업자 값이 없으면 drop\n",
    "# w1.rename({'수도사업자':'지역'}, axis=1, inplace=True)"
   ]
  },
  {
   "cell_type": "code",
   "execution_count": 99,
   "metadata": {
    "ExecuteTime": {
     "end_time": "2021-07-20T09:23:35.269704Z",
     "start_time": "2021-07-20T09:20:51.481707Z"
    }
   },
   "outputs": [
    {
     "name": "stdout",
     "output_type": "stream",
     "text": [
      "저장 완료-----------------------\n"
     ]
    }
   ],
   "source": [
    "w.to_excel('../data/refined/water.xlsx')\n",
    "print('저장 완료-----------------------')"
   ]
  },
  {
   "cell_type": "markdown",
   "metadata": {},
   "source": [
    "---\n",
    "---"
   ]
  },
  {
   "cell_type": "markdown",
   "metadata": {},
   "source": [
    "## For Health Data\n",
    "연도별 컬럼이 같은 내용이더라도 명칭이나 띄어쓰기가 다른 것을 맞춰야 함\n",
    "* '비만율(신체계측)_표준화율': 자가보고, 신체계측 등 매년 일정하지 않음 --> 제외\n",
    "* **'삶의 질 지수(EQ-5D)_표준화율' = '삶의질지수_표준화율'**\n",
    "* **'양호한 주관적 건강수준 인지율_표준화율'** \n",
    "* '행복감 지수_표준화율': 간헐적으로(2011, 2015...) 있음 --> 제외\n",
    "* **'스트레스 인지율_표준화율'**\n",
    "* **'우울감 경험률_표준화율'**\n",
    "* '인지장애 경험률(50세 이상)_표준화율': 연령 한정적이며 없는 연도 있음 --> 제외 \n",
    "* **'주관적 구강건강이 나쁜 인구의 분율_표준화율'**\n",
    "* '스트레스로 인한 정신상담률_표준화율': 없는 연도(2008년) 있으며, 스트레스 항목은 별도로 있으므로 제외\n",
    "* '우울증상으로 인한 정신상담률_표준화율': 위와 동일\n",
    "* **'연간 보건기관 이용률_표준화율': 확인하고 싶은 내용이라 있는 연도만 모으기로!  ==>  2009년 ~**"
   ]
  },
  {
   "cell_type": "code",
   "execution_count": 180,
   "metadata": {
    "ExecuteTime": {
     "end_time": "2021-07-20T23:42:21.779301Z",
     "start_time": "2021-07-20T23:41:39.553262Z"
    }
   },
   "outputs": [],
   "source": [
    "# 2008년 건강지표 데이터\n",
    "h_idx = ['시도', '삶의질지수_표준화율', '양호한주관적건강수준인지율_표준화율', '스트레스인지율_표준화율', '우울감경험률_표준화율', \n",
    "         '주관적구강건강이나쁜인구의분율_표준화율']\n",
    "h_08 = pd.read_excel('../data/rawdata/health/health_2008_2018.xlsx', sheet_name=4, usecols=h_idx, nrows=17)    "
   ]
  },
  {
   "cell_type": "code",
   "execution_count": 181,
   "metadata": {
    "ExecuteTime": {
     "end_time": "2021-07-20T23:42:57.813911Z",
     "start_time": "2021-07-20T23:42:21.783292Z"
    }
   },
   "outputs": [],
   "source": [
    "# 2009년 건강지표 데이터\n",
    "h_idx = ['시도', '삶의질지수_표준화율', '양호한주관적건강수준인지율_표준화율', '스트레스인지율_표준화율', '우울감경험률_표준화율', \n",
    "         '주관적구강건강이나쁜인구의분율_표준화율', '연간보건기관이용률_표준화율']\n",
    "h_09 = pd.read_excel('../data/rawdata/health/health_2008_2018.xlsx', sheet_name=5, usecols=h_idx, nrows=17) "
   ]
  },
  {
   "cell_type": "code",
   "execution_count": 182,
   "metadata": {
    "ExecuteTime": {
     "end_time": "2021-07-20T23:43:31.091672Z",
     "start_time": "2021-07-20T23:42:57.818899Z"
    }
   },
   "outputs": [],
   "source": [
    "# 2010년 건강지표 데이터\n",
    "h_idx = ['시도', '삶의질지수_표준화율', '양호한주관적건강수준인지율_표준화율', '스트레스인지율_표준화율', '우울감경험률_표준화율', \n",
    "         '주관적구강건강이나쁜인구의분율_표준화율', '연간보건기관이용률_표준화율']\n",
    "h_10 = pd.read_excel('../data/rawdata/health/health_2008_2018.xlsx', sheet_name=6, usecols=h_idx, nrows=17)"
   ]
  },
  {
   "cell_type": "code",
   "execution_count": 183,
   "metadata": {
    "ExecuteTime": {
     "end_time": "2021-07-20T23:44:10.610970Z",
     "start_time": "2021-07-20T23:43:31.096667Z"
    }
   },
   "outputs": [],
   "source": [
    "# 2011년 건강지표 데이터\n",
    "h_idx = ['시도', '삶의질지수_표준화율', '양호한주관적건강수준인지율_표준화율', '스트레스인지율_표준화율', '우울감경험률_표준화율', \n",
    "         '주관적구강건강이나쁜인구의분율_표준화율', '연간보건기관이용률_표준화율']\n",
    "h_11 = pd.read_excel('../data/rawdata/health/health_2008_2018.xlsx', sheet_name=7, usecols=h_idx, nrows=17)"
   ]
  },
  {
   "cell_type": "code",
   "execution_count": 185,
   "metadata": {
    "ExecuteTime": {
     "end_time": "2021-07-20T23:46:18.935688Z",
     "start_time": "2021-07-20T23:45:40.958274Z"
    }
   },
   "outputs": [],
   "source": [
    "# 2012년 건강지표 데이터\n",
    "h_idx = ['시도', '삶의질지수_표준화율', '양호한주관적건강수준인지율_표준화율', '스트레스인지율_표준화율', '우울감경험률_표준화율', \n",
    "         '주관적구강건강이나쁜인구의분율_표준화율', '연간보건기관이용률_표준화율']\n",
    "h_12 = pd.read_excel('../data/rawdata/health/health_2008_2018.xlsx', sheet_name=8, usecols=h_idx, nrows=18)"
   ]
  },
  {
   "cell_type": "code",
   "execution_count": 186,
   "metadata": {
    "ExecuteTime": {
     "end_time": "2021-07-20T23:46:51.289132Z",
     "start_time": "2021-07-20T23:46:18.939676Z"
    }
   },
   "outputs": [],
   "source": [
    "# 2013년 건강지표 데이터\n",
    "h_idx = ['시도', '삶의질지수_표준화율', '양호한주관적건강수준인지율_표준화율', '스트레스인지율_표준화율', '우울감경험률_표준화율', \n",
    "         '주관적구강건강이나쁜인구의분율_표준화율', '연간보건기관이용률_표준화율']\n",
    "h_13 = pd.read_excel('../data/rawdata/health/health_2008_2018.xlsx', sheet_name=9, usecols=h_idx, nrows=18)"
   ]
  },
  {
   "cell_type": "code",
   "execution_count": 187,
   "metadata": {
    "ExecuteTime": {
     "end_time": "2021-07-20T23:47:23.380967Z",
     "start_time": "2021-07-20T23:46:51.295125Z"
    }
   },
   "outputs": [],
   "source": [
    "# 2014년 건강지표 데이터\n",
    "h_idx = ['시도', '삶의질지수_표준화율', '양호한주관적건강수준인지율_표준화율', '스트레스인지율_표준화율', '우울감경험률_표준화율', \n",
    "         '주관적구강건강이나쁜인구의분율_표준화율', '연간보건기관이용률_표준화율']\n",
    "h_14 = pd.read_excel('../data/rawdata/health/health_2008_2018.xlsx', sheet_name=10, usecols=h_idx, nrows=18)"
   ]
  },
  {
   "cell_type": "code",
   "execution_count": 188,
   "metadata": {
    "ExecuteTime": {
     "end_time": "2021-07-20T23:48:04.165880Z",
     "start_time": "2021-07-20T23:47:23.385965Z"
    }
   },
   "outputs": [],
   "source": [
    "# 2015년 건강지표 데이터\n",
    "h_idx = ['시도', '삶의질지수_표준화율', '양호한주관적건강수준인지율_표준화율', '스트레스인지율_표준화율', '우울감경험률_표준화율', \n",
    "         '주관적구강건강이나쁜인구의분율_표준화율', '연간보건기관이용률_표준화율']\n",
    "h_15 = pd.read_excel('../data/rawdata/health/health_2008_2018.xlsx', sheet_name=11, usecols=h_idx, nrows=18)"
   ]
  },
  {
   "cell_type": "code",
   "execution_count": 189,
   "metadata": {
    "ExecuteTime": {
     "end_time": "2021-07-20T23:48:40.675668Z",
     "start_time": "2021-07-20T23:48:04.171866Z"
    }
   },
   "outputs": [],
   "source": [
    "# 2016년 건강지표 데이터\n",
    "h_idx = ['시도', '삶의질지수_표준화율', '양호한주관적건강수준인지율_표준화율', '스트레스인지율_표준화율', '우울감경험률_표준화율', \n",
    "         '주관적구강건강이나쁜인구의분율_표준화율', '연간보건기관이용률_표준화율']\n",
    "h_16 = pd.read_excel('../data/rawdata/health/health_2008_2018.xlsx', sheet_name=12, usecols=h_idx, nrows=18)"
   ]
  },
  {
   "cell_type": "code",
   "execution_count": 190,
   "metadata": {
    "ExecuteTime": {
     "end_time": "2021-07-20T23:49:14.759452Z",
     "start_time": "2021-07-20T23:48:40.678667Z"
    }
   },
   "outputs": [],
   "source": [
    "# 2017년 건강지표 데이터\n",
    "h_idx = ['시도', '삶의질지수_표준화율', '양호한주관적건강수준인지율_표준화율', '스트레스인지율_표준화율', '우울감경험률_표준화율', \n",
    "         '주관적구강건강이나쁜인구의분율_표준화율', '연간보건기관이용률_표준화율']\n",
    "h_17 = pd.read_excel('../data/rawdata/health/health_2008_2018.xlsx', sheet_name=13, usecols=h_idx, nrows=18)"
   ]
  },
  {
   "cell_type": "code",
   "execution_count": 191,
   "metadata": {
    "ExecuteTime": {
     "end_time": "2021-07-20T23:49:50.616547Z",
     "start_time": "2021-07-20T23:49:14.764450Z"
    }
   },
   "outputs": [],
   "source": [
    "# 2018년 건강지표 데이터\n",
    "h_idx = ['시도', '삶의질지수(EQ5D)_조율', '양호한주관적건강수준인지율_표준화율', '스트레스인지율_표준화율', '우울감경험률_표준화율', \n",
    "         '주관적구강건강이나쁜인구의분율_표준화율', '연간보건기관이용률_표준화율']\n",
    "h_18 = pd.read_excel('../data/rawdata/health/health_2008_2018.xlsx', sheet_name=14, usecols=h_idx, nrows=18)\n",
    "\n",
    "# 컬럼명 통일\n",
    "h_18.columns = ['시도', '삶의질지수_표준화율', '양호한주관적건강수준인지율_표준화율', '스트레스인지율_표준화율', '우울감경험률_표준화율', \n",
    "                 '주관적구강건강이나쁜인구의분율_표준화율', '연간보건기관이용률_표준화율']"
   ]
  },
  {
   "cell_type": "code",
   "execution_count": 192,
   "metadata": {
    "ExecuteTime": {
     "end_time": "2021-07-20T23:50:22.764552Z",
     "start_time": "2021-07-20T23:49:50.714286Z"
    }
   },
   "outputs": [],
   "source": [
    "# 2019년 건강지표 데이터 - 다른 연도랑 컬럼표기가 특히 다름!\n",
    "h_idx = ['시도', '삶의 질 지수(EQ-5D)_표준화율', '양호한 주관적 건강수준 인지율_표준화율', '스트레스 인지율_표준화율', '우울감 경험률_표준화율', \n",
    "         '주관적 구강건강이 나쁜 인구의 분율_표준화율', '연간 보건기관 이용률_조율']\n",
    "h_19 = pd.read_excel('../data/rawdata/health/health_2008_2018.xlsx', sheet_name=15, usecols=h_idx, nrows=18)\n",
    "\n",
    "h_19.columns = ['시도', '삶의질지수_표준화율', '양호한주관적건강수준인지율_표준화율', '스트레스인지율_표준화율', '우울감경험률_표준화율', \n",
    "                 '주관적구강건강이나쁜인구의분율_표준화율', '연간보건기관이용률_표준화율']"
   ]
  },
  {
   "cell_type": "markdown",
   "metadata": {},
   "source": [
    "### Save Each Year Dataframe"
   ]
  },
  {
   "cell_type": "code",
   "execution_count": 193,
   "metadata": {
    "ExecuteTime": {
     "end_time": "2021-07-20T23:50:25.565061Z",
     "start_time": "2021-07-20T23:50:22.769540Z"
    }
   },
   "outputs": [],
   "source": [
    "year = 2008   # file name suffix\n",
    "\n",
    "for df in [h_08, h_09, h_10, h_11, h_12, h_13, h_14, h_15, h_16, h_17, h_18, h_19]:\n",
    "    df1 = df.drop(index=0)    # 매년 첫 줄(전국) 삭제\n",
    "    df1['연도'] = year\n",
    "    df1.to_excel('../data/refined/health/health_{}.xlsx'.format(year))\n",
    "    year += 1"
   ]
  }
 ],
 "metadata": {
  "kernelspec": {
   "display_name": "Python 3",
   "language": "python",
   "name": "python3"
  },
  "language_info": {
   "codemirror_mode": {
    "name": "ipython",
    "version": 3
   },
   "file_extension": ".py",
   "mimetype": "text/x-python",
   "name": "python",
   "nbconvert_exporter": "python",
   "pygments_lexer": "ipython3",
   "version": "3.7.6"
  },
  "toc": {
   "base_numbering": 1,
   "nav_menu": {},
   "number_sections": true,
   "sideBar": true,
   "skip_h1_title": false,
   "title_cell": "Table of Contents",
   "title_sidebar": "Contents",
   "toc_cell": false,
   "toc_position": {},
   "toc_section_display": true,
   "toc_window_display": false
  }
 },
 "nbformat": 4,
 "nbformat_minor": 4
}
